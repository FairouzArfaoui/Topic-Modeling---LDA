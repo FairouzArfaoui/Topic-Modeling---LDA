{
 "cells": [
  {
   "cell_type": "markdown",
   "metadata": {},
   "source": [
    "# Topic Modelling"
   ]
  },
  {
   "cell_type": "markdown",
   "metadata": {},
   "source": [
    "## LDA - Latent Drichilet Allocation"
   ]
  },
  {
   "cell_type": "code",
   "execution_count": 1,
   "metadata": {},
   "outputs": [
    {
     "name": "stderr",
     "output_type": "stream",
     "text": [
      "[nltk_data] Error loading wordnet: hostname\n",
      "[nltk_data]     'raw.githubusercontent.com' doesn't match\n",
      "[nltk_data]     'ciupfortigate.lan.ciup.fr'\n"
     ]
    }
   ],
   "source": [
    "#Dependencies\n",
    "import pandas as pd\n",
    "import matplotlib.pyplot as plt\n",
    "\n",
    "#the library for Topic modelling\n",
    "import gensim\n",
    "from gensim.models.ldamulticore import LdaMulticore\n",
    "from gensim.models.coherencemodel import CoherenceModel\n",
    "from gensim import corpora, models\n",
    "import pyLDAvis.gensim #LDA visualization library\n",
    "\n",
    "from nltk.corpus import stopwords\n",
    "import nltk\n",
    "nltk.download('wordnet')\n",
    "import string\n",
    "from nltk.stem.wordnet import WordNetLemmatizer\n",
    "import re\n",
    "\n",
    "from itertools import chain\n",
    "import warnings\n",
    "warnings.simplefilter('ignore')"
   ]
  },
  {
   "cell_type": "markdown",
   "metadata": {},
   "source": [
    "**Read News articles pickle file**"
   ]
  },
  {
   "cell_type": "code",
   "execution_count": 2,
   "metadata": {},
   "outputs": [
    {
     "name": "stdout",
     "output_type": "stream",
     "text": [
      "(10000, 4)\n"
     ]
    },
    {
     "data": {
      "text/html": [
       "<div>\n",
       "<style scoped>\n",
       "    .dataframe tbody tr th:only-of-type {\n",
       "        vertical-align: middle;\n",
       "    }\n",
       "\n",
       "    .dataframe tbody tr th {\n",
       "        vertical-align: top;\n",
       "    }\n",
       "\n",
       "    .dataframe thead th {\n",
       "        text-align: right;\n",
       "    }\n",
       "</style>\n",
       "<table border=\"1\" class=\"dataframe\">\n",
       "  <thead>\n",
       "    <tr style=\"text-align: right;\">\n",
       "      <th></th>\n",
       "      <th>title</th>\n",
       "      <th>site_type</th>\n",
       "      <th>body</th>\n",
       "      <th>id</th>\n",
       "    </tr>\n",
       "  </thead>\n",
       "  <tbody>\n",
       "    <tr>\n",
       "      <th>0</th>\n",
       "      <td>Why does Apple act like Intel is always holdin...</td>\n",
       "      <td>discussions</td>\n",
       "      <td>\\nBecause macs don't bring in the profit that ...</td>\n",
       "      <td>76b0891843eb381c4c0e3e5974fd40f2</td>\n",
       "    </tr>\n",
       "    <tr>\n",
       "      <th>1</th>\n",
       "      <td>California reports 585 coronavirus deaths, new...</td>\n",
       "      <td>blogs</td>\n",
       "      <td>\\nCalifornia reports 585 coronavirus deaths, n...</td>\n",
       "      <td>b205f71670059e39e436226fe728fbd6</td>\n",
       "    </tr>\n",
       "    <tr>\n",
       "      <th>2</th>\n",
       "      <td>Reset Passcode On iPhone</td>\n",
       "      <td>blogs</td>\n",
       "      <td>\\nHome » reset iphone » Reset Passcode On iPho...</td>\n",
       "      <td>15e2fa5f37ad8de40d13ec780cd2c9ce</td>\n",
       "    </tr>\n",
       "    <tr>\n",
       "      <th>3</th>\n",
       "      <td>Windows Explorer</td>\n",
       "      <td>discussions</td>\n",
       "      <td>\\nWhen I try to open a specific folder which c...</td>\n",
       "      <td>2c9009e582b9fc8744ffcbdc2d329e58</td>\n",
       "    </tr>\n",
       "    <tr>\n",
       "      <th>4</th>\n",
       "      <td>Caledon prison may have restrictions eased ami...</td>\n",
       "      <td>news</td>\n",
       "      <td>\\nBrian Molefe takes aim at Ramaphosa for Esko...</td>\n",
       "      <td>f2e48d383b36b2eefa09e44ff9ea78e4</td>\n",
       "    </tr>\n",
       "  </tbody>\n",
       "</table>\n",
       "</div>"
      ],
      "text/plain": [
       "                                               title    site_type  \\\n",
       "0  Why does Apple act like Intel is always holdin...  discussions   \n",
       "1  California reports 585 coronavirus deaths, new...        blogs   \n",
       "2                           Reset Passcode On iPhone        blogs   \n",
       "3                                   Windows Explorer  discussions   \n",
       "4  Caledon prison may have restrictions eased ami...         news   \n",
       "\n",
       "                                                body  \\\n",
       "0  \\nBecause macs don't bring in the profit that ...   \n",
       "1  \\nCalifornia reports 585 coronavirus deaths, n...   \n",
       "2  \\nHome » reset iphone » Reset Passcode On iPho...   \n",
       "3  \\nWhen I try to open a specific folder which c...   \n",
       "4  \\nBrian Molefe takes aim at Ramaphosa for Esko...   \n",
       "\n",
       "                                 id  \n",
       "0  76b0891843eb381c4c0e3e5974fd40f2  \n",
       "1  b205f71670059e39e436226fe728fbd6  \n",
       "2  15e2fa5f37ad8de40d13ec780cd2c9ce  \n",
       "3  2c9009e582b9fc8744ffcbdc2d329e58  \n",
       "4  f2e48d383b36b2eefa09e44ff9ea78e4  "
      ]
     },
     "execution_count": 2,
     "metadata": {},
     "output_type": "execute_result"
    }
   ],
   "source": [
    "df = pd.read_csv(\"./corpus.csv\")\n",
    "print(df.shape)\n",
    "df.head()"
   ]
  },
  {
   "cell_type": "markdown",
   "metadata": {},
   "source": [
    "# Cleaning and Preprocessing"
   ]
  },
  {
   "cell_type": "code",
   "execution_count": 3,
   "metadata": {},
   "outputs": [],
   "source": [
    "#clean the data\n",
    "REPLACE_BY_SPACE_RE = re.compile('[/(){}\\[\\]\\|@,;]')\n",
    "BAD_SYMBOLS_RE = re.compile('[^a-z #+_]')\n",
    "\n",
    "stop_words = stopwords.words('english')\n",
    "stop_words.extend(['from', 'subject', 're', 'edu', 'use'])\n",
    "#stop = set(stopwords.words('english'))\n",
    "stop = set(stop_words)\n",
    "exclude = set(string.punctuation)\n",
    "lemma = WordNetLemmatizer()\n",
    "\n",
    "def clean(text):\n",
    "    text = text.lower()\n",
    "    text = re.sub(REPLACE_BY_SPACE_RE, \" \", text)\n",
    "    text = re.sub(BAD_SYMBOLS_RE, \"\", text)\n",
    "    stop_free = ' '.join([word for word in text.lower().split() if (not word in stop and not word == \"\")])\n",
    "    punc_free = ''.join(ch for ch in stop_free if ch not in exclude)\n",
    "    normalized = ' '.join([lemma.lemmatize(word) for word in punc_free.split() if (len(word) > 1)])\n",
    "    return normalized.split()"
   ]
  },
  {
   "cell_type": "code",
   "execution_count": 4,
   "metadata": {},
   "outputs": [],
   "source": [
    "df['text_clean']=df['body'].apply(clean)"
   ]
  },
  {
   "cell_type": "code",
   "execution_count": 5,
   "metadata": {},
   "outputs": [],
   "source": [
    "for i in range(10000):\n",
    "    df['text_clean'][i] = gensim.utils.simple_preprocess(str(df['text_clean'][i]), deacc=True)"
   ]
  },
  {
   "cell_type": "markdown",
   "metadata": {},
   "source": [
    "**Dataframe after cleaning**"
   ]
  },
  {
   "cell_type": "code",
   "execution_count": 6,
   "metadata": {},
   "outputs": [
    {
     "data": {
      "text/html": [
       "<div>\n",
       "<style scoped>\n",
       "    .dataframe tbody tr th:only-of-type {\n",
       "        vertical-align: middle;\n",
       "    }\n",
       "\n",
       "    .dataframe tbody tr th {\n",
       "        vertical-align: top;\n",
       "    }\n",
       "\n",
       "    .dataframe thead th {\n",
       "        text-align: right;\n",
       "    }\n",
       "</style>\n",
       "<table border=\"1\" class=\"dataframe\">\n",
       "  <thead>\n",
       "    <tr style=\"text-align: right;\">\n",
       "      <th></th>\n",
       "      <th>title</th>\n",
       "      <th>site_type</th>\n",
       "      <th>body</th>\n",
       "      <th>id</th>\n",
       "      <th>text_clean</th>\n",
       "    </tr>\n",
       "  </thead>\n",
       "  <tbody>\n",
       "    <tr>\n",
       "      <th>0</th>\n",
       "      <td>Why does Apple act like Intel is always holdin...</td>\n",
       "      <td>discussions</td>\n",
       "      <td>\\nBecause macs don't bring in the profit that ...</td>\n",
       "      <td>76b0891843eb381c4c0e3e5974fd40f2</td>\n",
       "      <td>[mac, dont, bring, profit, iphone, market, sha...</td>\n",
       "    </tr>\n",
       "    <tr>\n",
       "      <th>1</th>\n",
       "      <td>California reports 585 coronavirus deaths, new...</td>\n",
       "      <td>blogs</td>\n",
       "      <td>\\nCalifornia reports 585 coronavirus deaths, n...</td>\n",
       "      <td>b205f71670059e39e436226fe728fbd6</td>\n",
       "      <td>[california, report, coronavirus, death, new, ...</td>\n",
       "    </tr>\n",
       "    <tr>\n",
       "      <th>2</th>\n",
       "      <td>Reset Passcode On iPhone</td>\n",
       "      <td>blogs</td>\n",
       "      <td>\\nHome » reset iphone » Reset Passcode On iPho...</td>\n",
       "      <td>15e2fa5f37ad8de40d13ec780cd2c9ce</td>\n",
       "      <td>[home, reset, iphone, reset, passcode, iphone,...</td>\n",
       "    </tr>\n",
       "    <tr>\n",
       "      <th>3</th>\n",
       "      <td>Windows Explorer</td>\n",
       "      <td>discussions</td>\n",
       "      <td>\\nWhen I try to open a specific folder which c...</td>\n",
       "      <td>2c9009e582b9fc8744ffcbdc2d329e58</td>\n",
       "      <td>[try, open, specific, folder, contains, word, ...</td>\n",
       "    </tr>\n",
       "    <tr>\n",
       "      <th>4</th>\n",
       "      <td>Caledon prison may have restrictions eased ami...</td>\n",
       "      <td>news</td>\n",
       "      <td>\\nBrian Molefe takes aim at Ramaphosa for Esko...</td>\n",
       "      <td>f2e48d383b36b2eefa09e44ff9ea78e4</td>\n",
       "      <td>[brian, molefe, take, aim, ramaphosa, eskoms, ...</td>\n",
       "    </tr>\n",
       "  </tbody>\n",
       "</table>\n",
       "</div>"
      ],
      "text/plain": [
       "                                               title    site_type  \\\n",
       "0  Why does Apple act like Intel is always holdin...  discussions   \n",
       "1  California reports 585 coronavirus deaths, new...        blogs   \n",
       "2                           Reset Passcode On iPhone        blogs   \n",
       "3                                   Windows Explorer  discussions   \n",
       "4  Caledon prison may have restrictions eased ami...         news   \n",
       "\n",
       "                                                body  \\\n",
       "0  \\nBecause macs don't bring in the profit that ...   \n",
       "1  \\nCalifornia reports 585 coronavirus deaths, n...   \n",
       "2  \\nHome » reset iphone » Reset Passcode On iPho...   \n",
       "3  \\nWhen I try to open a specific folder which c...   \n",
       "4  \\nBrian Molefe takes aim at Ramaphosa for Esko...   \n",
       "\n",
       "                                 id  \\\n",
       "0  76b0891843eb381c4c0e3e5974fd40f2   \n",
       "1  b205f71670059e39e436226fe728fbd6   \n",
       "2  15e2fa5f37ad8de40d13ec780cd2c9ce   \n",
       "3  2c9009e582b9fc8744ffcbdc2d329e58   \n",
       "4  f2e48d383b36b2eefa09e44ff9ea78e4   \n",
       "\n",
       "                                          text_clean  \n",
       "0  [mac, dont, bring, profit, iphone, market, sha...  \n",
       "1  [california, report, coronavirus, death, new, ...  \n",
       "2  [home, reset, iphone, reset, passcode, iphone,...  \n",
       "3  [try, open, specific, folder, contains, word, ...  \n",
       "4  [brian, molefe, take, aim, ramaphosa, eskoms, ...  "
      ]
     },
     "execution_count": 6,
     "metadata": {},
     "output_type": "execute_result"
    }
   ],
   "source": [
    "df.head()"
   ]
  },
  {
   "cell_type": "markdown",
   "metadata": {},
   "source": [
    "# Preparing Document-Term Matrix"
   ]
  },
  {
   "cell_type": "code",
   "execution_count": 7,
   "metadata": {},
   "outputs": [
    {
     "name": "stdout",
     "output_type": "stream",
     "text": [
      "4795897\n"
     ]
    }
   ],
   "source": [
    "# Creating the term dictionary of our courpus, where every unique term is assigned an index.\n",
    "dictionary = corpora.Dictionary(df['text_clean'])\n",
    "#Total number of non-zeroes in the BOW matrix (sum of the number of unique words per document over the entire corpus).\n",
    "print(dictionary.num_nnz)"
   ]
  },
  {
   "cell_type": "code",
   "execution_count": 8,
   "metadata": {},
   "outputs": [],
   "source": [
    "# Converting list of documents (corpus) into Document Term Matrix using dictionary prepared above\n",
    "doc_term_matrix = [dictionary.doc2bow(doc) for doc in df['text_clean'] ]\n",
    "#print(len(doc_term_matrix)) = 10000"
   ]
  },
  {
   "cell_type": "markdown",
   "metadata": {},
   "source": [
    "# LDA model"
   ]
  },
  {
   "cell_type": "code",
   "execution_count": 9,
   "metadata": {},
   "outputs": [],
   "source": [
    "# Creating the object for LDA model using gensim library\n",
    "lda = gensim.models.ldamodel.LdaModel"
   ]
  },
  {
   "cell_type": "code",
   "execution_count": 10,
   "metadata": {},
   "outputs": [],
   "source": [
    "def compute_coherence_values(dictionary, corpus, texts, limit, start=2, step=3):\n",
    "    \"\"\"\n",
    "    Compute c_v coherence for various number of topics\n",
    "\n",
    "    Parameters:\n",
    "    ----------\n",
    "    dictionary : Gensim dictionary\n",
    "    corpus : Gensim corpus\n",
    "    texts : List of input texts\n",
    "    limit : Max num of topics\n",
    "\n",
    "    Returns:\n",
    "    -------\n",
    "    model_list : List of LDA topic models\n",
    "    coherence_values : Coherence values corresponding to the LDA model with respective number of topics\n",
    "    \"\"\"\n",
    "    coherence_values = []\n",
    "    model_list = []\n",
    "    for num_topics in range(start, limit, step):\n",
    "        model = gensim.models.ldamodel.LdaModel(corpus=corpus, num_topics=num_topics, id2word=dictionary)\n",
    "        model_list.append(model)\n",
    "        coherencemodel = CoherenceModel(model=model, texts=texts, dictionary=dictionary, coherence='c_v')\n",
    "        coherence_values.append(coherencemodel.get_coherence())\n",
    "\n",
    "    return model_list, coherence_values"
   ]
  },
  {
   "cell_type": "code",
   "execution_count": 11,
   "metadata": {},
   "outputs": [
    {
     "name": "stdout",
     "output_type": "stream",
     "text": [
      "CPU times: user 15min 28s, sys: 7min 58s, total: 23min 26s\n",
      "Wall time: 28min 1s\n"
     ]
    }
   ],
   "source": [
    "%time model_list, coherence_values = compute_coherence_values(dictionary=dictionary, corpus=doc_term_matrix, texts=df['text_clean'], start=2, limit=10, step=1)"
   ]
  },
  {
   "cell_type": "code",
   "execution_count": 13,
   "metadata": {},
   "outputs": [
    {
     "data": {
      "image/png": "[encoded data removed]",
      "text/plain": [
       "<Figure size 432x288 with 1 Axes>"
      ]
     },
     "metadata": {
      "needs_background": "light"
     },
     "output_type": "display_data"
    }
   ],
   "source": [
    "limit=10; start=2; step=1;\n",
    "x = range(start, limit, step)\n",
    "plt.plot(x, coherence_values)\n",
    "plt.xlabel(\"Num Topics\")\n",
    "plt.ylabel(\"Coherence score\")\n",
    "plt.legend((\"coherence_values\"), loc='best')\n",
    "plt.show()# Print the coherence scores"
   ]
  },
  {
   "cell_type": "code",
   "execution_count": 14,
   "metadata": {},
   "outputs": [
    {
     "name": "stdout",
     "output_type": "stream",
     "text": [
      "Num Topics = 2  has Coherence Value of 0.34\n",
      "Num Topics = 3  has Coherence Value of 0.3983\n",
      "Num Topics = 4  has Coherence Value of 0.4829\n",
      "Num Topics = 5  has Coherence Value of 0.4834\n",
      "Num Topics = 6  has Coherence Value of 0.4655\n",
      "Num Topics = 7  has Coherence Value of 0.4776\n",
      "Num Topics = 8  has Coherence Value of 0.4768\n",
      "Num Topics = 9  has Coherence Value of 0.4837\n"
     ]
    }
   ],
   "source": [
    "for m, cv in zip(x, coherence_values):\n",
    "    print(\"Num Topics =\", m, \" has Coherence Value of\", round(cv, 4))"
   ]
  },
  {
   "cell_type": "markdown",
   "metadata": {},
   "source": [
    "# Building the Topic Model"
   ]
  },
  {
   "cell_type": "code",
   "execution_count": 15,
   "metadata": {},
   "outputs": [
    {
     "name": "stdout",
     "output_type": "stream",
     "text": [
      "CPU times: user 1min 26s, sys: 48.1 s, total: 2min 14s\n",
      "Wall time: 52.4 s\n"
     ]
    }
   ],
   "source": [
    "# Running and Trainign LDA model on the document term matrix.\n",
    "num_topics = 5\n",
    "%time ldamodel = lda(doc_term_matrix,num_topics=num_topics,id2word=dictionary)"
   ]
  },
  {
   "cell_type": "markdown",
   "metadata": {},
   "source": [
    "# View the topics in LDA model"
   ]
  },
  {
   "cell_type": "code",
   "execution_count": 16,
   "metadata": {},
   "outputs": [
    {
     "data": {
      "text/plain": [
       "[(0,\n",
       "  '0.004*\"said\" + 0.004*\"company\" + 0.004*\"new\" + 0.004*\"data\" + 0.003*\"may\" + 0.003*\"microsoft\" + 0.003*\"year\" + 0.003*\"market\" + 0.003*\"security\" + 0.003*\"also\"'),\n",
       " (1,\n",
       "  '0.013*\"casino\" + 0.010*\"online\" + 0.008*\"game\" + 0.005*\"site\" + 0.004*\"one\" + 0.004*\"time\" + 0.004*\"also\" + 0.004*\"get\" + 0.004*\"make\" + 0.003*\"new\"'),\n",
       " (2,\n",
       "  '0.005*\"one\" + 0.005*\"name\" + 0.004*\"like\" + 0.004*\"time\" + 0.003*\"new\" + 0.003*\"year\" + 0.003*\"would\" + 0.003*\"people\" + 0.003*\"also\" + 0.003*\"business\"'),\n",
       " (3,\n",
       "  '0.006*\"information\" + 0.006*\"like\" + 0.005*\"time\" + 0.004*\"one\" + 0.004*\"get\" + 0.004*\"make\" + 0.004*\"click\" + 0.004*\"also\" + 0.003*\"people\" + 0.003*\"way\"'),\n",
       " (4,\n",
       "  '0.030*\"credit\" + 0.027*\"debt\" + 0.019*\"counseling\" + 0.018*\"consumer\" + 0.017*\"service\" + 0.013*\"http\" + 0.011*\"help\" + 0.008*\"financial\" + 0.007*\"trump\" + 0.007*\"program\"')]"
      ]
     },
     "execution_count": 16,
     "metadata": {},
     "output_type": "execute_result"
    }
   ],
   "source": [
    "ldamodel.print_topics(num_topics=5)"
   ]
  },
  {
   "cell_type": "markdown",
   "metadata": {},
   "source": [
    "# Compute Model Perplexity and Coherence Score"
   ]
  },
  {
   "cell_type": "code",
   "execution_count": 17,
   "metadata": {},
   "outputs": [
    {
     "name": "stdout",
     "output_type": "stream",
     "text": [
      "Perplexity:  -8.609386697813305\n",
      "Coherence Score:  0.461224219829688\n"
     ]
    }
   ],
   "source": [
    "print('Perplexity: ', ldamodel.log_perplexity(doc_term_matrix,total_docs=10000))  # a measure of how good the model is. lower the better.\n",
    "\n",
    "# Compute Coherence Score\n",
    "coherence_model_lda = CoherenceModel(model=ldamodel, texts=df['text_clean'], dictionary=dictionary , coherence='c_v')\n",
    "coherence_lda = coherence_model_lda.get_coherence()\n",
    "print('Coherence Score: ', coherence_lda)"
   ]
  },
  {
   "cell_type": "markdown",
   "metadata": {},
   "source": [
    "# Visualize the topics-keywordsmodel results"
   ]
  },
  {
   "cell_type": "code",
   "execution_count": 18,
   "metadata": {},
   "outputs": [
    {
     "data": {
      "text/html": [
       "\n",
       "<link rel=\"stylesheet\" type=\"text/css\" href=\"https://cdn.jsdelivr.net/gh/bmabey/pyLDAvis@3.2.2/pyLDAvis/js/ldavis.v1.0.0.css\">\n",
       "\n",
       "\n",
       "<div id=\"ldavis_el74111404848779063527287729064\"></div>\n",
       "<script type=\"text/javascript\">\n",
       "\n",
       "var ldavis_el74111404848779063527287729064_data = {\"mdsDat\": {\"x\": [0.0853010919251378, 0.007728963001230289, -0.09610763421318529, -0.0700748019624183, 0.0731523812492355], \"y\": [0.02297134785172174, 0.13473550033484769, -0.020570740825750194, 0.09528113688117638, -0.23241724424199567], \"topics\": [1, 2, 3, 4, 5], \"cluster\": [1, 1, 1, 1, 1], \"Freq\": [23.876829122922974, 18.49206199981169, 20.8141143181204, 24.469710208383336, 12.347284350761589]}, \"tinfo\": {\"Term\": [\"credit\", \"debt\", \"counseling\", \"consumer\", \"casino\", \"service\", \"http\", \"help\", \"online\", \"game\", \"collect\", \"financial\", \"medical\", \"trump\", \"program\", \"act\", \"collection\", \"canada\", \"name\", \"loan\", \"company\", \"wwwyoutubecom\", \"people\", \"management\", \"plan\", \"civil\", \"bankruptcy\", \"mortgage\", \"consolidation\", \"gambling\", \"bmc\", \"hpe\", \"xfa\", \"nongaap\", \"brunopress\", \"ringcentral\", \"clumio\", \"nuvia\", \"kazuar\", \"cloudline\", \"ieee\", \"sunburst\", \"nuvias\", \"cyberespionage\", \"logfile\", \"zerodays\", \"beyonc\", \"moodle\", \"rimini\", \"baseboard\", \"fireeye\", \"mimecast\", \"dac\", \"cven\", \"openldap\", \"sunspot\", \"geospatial\", \"altaro\", \"asore\", \"ameritrade\", \"solarwinds\", \"binary\", \"bsc\", \"infosys\", \"qualcomm\", \"farmington\", \"forwardlooking\", \"trading\", \"cve\", \"attacker\", \"gitfixes\", \"endpoint\", \"valuebn\", \"vulnerability\", \"svr\", \"africa\", \"orion\", \"hacker\", \"singapore\", \"phishing\", \"intel\", \"stock\", \"affiliate\", \"india\", \"recommended\", \"commission\", \"slide\", \"microsoft\", \"security\", \"data\", \"getty\", \"russia\", \"investment\", \"cyber\", \"earn\", \"market\", \"investor\", \"cloud\", \"cybersecurity\", \"bitcoin\", \"technology\", \"growth\", \"said\", \"access\", \"article\", \"global\", \"company\", \"user\", \"system\", \"coronavirus\", \"something\", \"year\", \"purchase\", \"state\", \"new\", \"report\", \"may\", \"business\", \"software\", \"link\", \"also\", \"first\", \"service\", \"government\", \"time\", \"apple\", \"one\", \"would\", \"could\", \"hrefhttp\", \"opengl\", \"ligature\", \"runtimefree\", \"opencl\", \"icd\", \"egl\", \"amdgpu\", \"glx\", \"filesfree\", \"div\", \"wordlist\", \"writeable\", \"azizkpln\", \"dkm\", \"amdgpuspecific\", \"componentscore\", \"loadersnonfree\", \"srchttp\", \"classclearboth\", \"wppostimage\", \"srcsethttp\", \"sizerandomthumb\", \"llvm\", \"proencs\", \"maxwidth\", \"wwwudemycom\", \"rbapgand\", \"filesmodular\", \"libraryamd\", \"ul\", \"casino\", \"wpcontent\", \"toolchain\", \"roulette\", \"gambling\", \"baccarat\", \"blackjack\", \"bonus\", \"enclosure\", \"gamers\", \"jackpot\", \"rtg\", \"slot\", \"poker\", \"spin\", \"wagering\", \"wager\", \"banker\", \"betting\", \"microgaming\", \"gambler\", \"playground\", \"online\", \"game\", \"bet\", \"reward\", \"deposit\", \"participate\", \"withdrawal\", \"player\", \"gaming\", \"participant\", \"enjoy\", \"engage\", \"site\", \"youll\", \"title\", \"sport\", \"video\", \"playing\", \"best\", \"free\", \"make\", \"time\", \"also\", \"get\", \"one\", \"need\", \"card\", \"may\", \"new\", \"like\", \"could\", \"well\", \"offer\", \"every\", \"way\", \"even\", \"lot\", \"many\", \"find\", \"papel\", \"boycotting\", \"sinner\", \"enwikipediaorg\", \"brandbucket\", \"pinephone\", \"messagethank\", \"truthtellers\", \"dumbphone\", \"blasios\", \"heh\", \"pander\", \"manga\", \"agreehere\", \"ubbe\", \"wo\", \"nonaggression\", \"floki\", \"brandbucketonce\", \"trademarkedno\", \"arte\", \"namealmost\", \"wayfair\", \"namelogo\", \"namea\", \"designvector\", \"materialsif\", \"editsour\", \"refundsif\", \"uniqueall\", \"vyrn\", \"com\", \"exactmatch\", \"caseyour\", \"trophy\", \"registrar\", \"llchowever\", \"linguistics\", \"domain\", \"luke\", \"noir\", \"youall\", \"tld\", \"jesus\", \"nihil\", \"altar\", \"logo\", \"smiled\", \"god\", \"name\", \"marceline\", \"deed\", \"fisher\", \"fortnite\", \"netflix\", \"talented\", \"amos\", \"christ\", \"captain\", \"anime\", \"film\", \"season\", \"lord\", \"bible\", \"man\", \"brand\", \"tv\", \"song\", \"holy\", \"love\", \"movie\", \"story\", \"book\", \"life\", \"son\", \"character\", \"father\", \"one\", \"year\", \"apple\", \"like\", \"would\", \"series\", \"come\", \"business\", \"back\", \"time\", \"know\", \"new\", \"people\", \"first\", \"also\", \"day\", \"dont\", \"even\", \"way\", \"make\", \"see\", \"get\", \"two\", \"take\", \"say\", \"world\", \"uninformative\", \"baud\", \"ngram\", \"capacitance\", \"esptool\", \"foraging\", \"hereback\", \"digg\", \"sherpa\", \"grammatically\", \"hereinside\", \"detailled\", \"dio\", \"linguee\", \"gpios\", \"hereinbound\", \"herenot\", \"creamyin\", \"creevey\", \"birdsong\", \"herehyperlinks\", \"seamensways\", \"differentiating\", \"disembarking\", \"newvalue\", \"hyperlinksin\", \"writerif\", \"idiomatic\", \"ttl\", \"filesample\", \"textranch\", \"textual\", \"macaque\", \"noun\", \"crawler\", \"clickwrap\", \"esp\", \"mcleod\", \"hyperlink\", \"daccessodsunorg\", \"septimuss\", \"sampsons\", \"amaging\", \"hereis\", \"simile\", \"wand\", \"septimus\", \"hekates\", \"ollivander\", \"hekate\", \"dissonance\", \"bootloader\", \"sampson\", \"proofreader\", \"colleen\", \"url\", \"calibration\", \"verb\", \"naturalnewscom\", \"backlink\", \"descriptive\", \"checkbox\", \"sentence\", \"click\", \"phrase\", \"wikihow\", \"detail\", \"text\", \"information\", \"editor\", \"backlinks\", \"irs\", \"cooky\", \"anchor\", \"loyalty\", \"oneway\", \"inbound\", \"context\", \"really\", \"individual\", \"page\", \"info\", \"like\", \"english\", \"website\", \"check\", \"content\", \"web\", \"make\", \"time\", \"way\", \"see\", \"need\", \"person\", \"site\", \"get\", \"might\", \"well\", \"one\", \"could\", \"take\", \"also\", \"people\", \"every\", \"may\", \"even\", \"new\", \"know\", \"many\", \"would\", \"chialo\", \"esteban\", \"newjersey\", \"andriana\", \"caldas\", \"colonia\", \"nunavut\", \"asesoramiento\", \"abouthttps\", \"garnishment\", \"scra\", \"pastdue\", \"servicemembers\", \"wwayourepeatcom\", \"delinquent\", \"fdcpa\", \"crdito\", \"repossession\", \"debthttps\", \"prefiling\", \"manitoba\", \"counseling\", \"consumidor\", \"foreclosure\", \"quebec\", \"debtdoes\", \"activeduty\", \"beonrepeatcom\", \"ingolf\", \"debt\", \"counselor\", \"wwwyoutubecom\", \"bankruptcy\", \"consolidation\", \"hardship\", \"eviction\", \"collector\", \"mortgage\", \"utc\", \"recourse\", \"credit\", \"owed\", \"alabama\", \"collect\", \"abusive\", \"loan\", \"qualify\", \"consumer\", \"http\", \"canada\", \"collection\", \"medical\", \"civil\", \"financial\", \"service\", \"act\", \"help\", \"tag\", \"program\", \"trump\", \"bill\", \"practice\", \"management\", \"plan\", \"people\", \"company\", \"january\", \"money\", \"card\", \"many\", \"agency\", \"get\", \"find\"], \"Freq\": [37449.0, 32812.0, 23513.0, 25954.0, 25561.0, 33456.0, 18864.0, 23657.0, 23767.0, 18803.0, 9038.0, 12067.0, 10482.0, 15009.0, 13966.0, 9496.0, 7340.0, 6945.0, 13881.0, 5296.0, 24994.0, 4745.0, 28868.0, 7945.0, 10734.0, 5568.0, 4559.0, 4605.0, 4442.0, 6423.0, 89.09420541330972, 244.79395331431456, 563.076105762097, 85.71288304396664, 140.22463293840826, 72.36405827616139, 59.94465745748145, 241.38783502648351, 128.9112561365564, 196.33712814592485, 51.00289901153761, 234.96092922369442, 51.50158376319619, 68.12139709996228, 78.93090747152239, 78.25575801029682, 72.18565625327683, 44.399672317200704, 212.79594990001394, 41.23159400086597, 270.8114112981438, 154.3018790537301, 59.59742999981482, 53.91018449974913, 76.23317752712072, 43.93975921154364, 68.132703734237, 38.485207036613154, 409.354845431556, 81.21411158515205, 1406.6563651250465, 1485.0939683308054, 232.38296584975825, 230.87275820971584, 487.78016488649786, 209.96307331697506, 338.0180285072894, 2676.641891325591, 334.01487932231265, 1016.439840343076, 383.04487851642665, 283.78403350735397, 146.48557274703248, 1704.2326989522558, 124.459504710139, 1530.8892803159831, 311.23586473568605, 2262.719419443554, 1178.0006039808243, 403.6997178791326, 1090.8824835310693, 3063.8519765549904, 4240.031066103374, 2116.1235805752076, 4166.889485315962, 4883.312213928449, 5658.023675095325, 7845.629887146509, 7017.0139434413495, 9501.487077330412, 1995.025289091373, 2256.100541964774, 1796.768393426238, 1229.7218951480097, 4153.726989481865, 7134.9184597127705, 1701.4742355043313, 2939.655743418835, 1377.2851386123778, 1842.5244515520558, 4631.738290034075, 2080.1786862010904, 10371.888618966188, 3191.8636848209408, 5844.54339609554, 3108.227246338285, 10191.085884186425, 5727.461315856779, 5727.091517429981, 3670.724222316686, 4866.071918897523, 7227.49476162747, 4131.988743600821, 6020.023307546084, 9566.439490906507, 4023.0961012896496, 7857.562518959416, 5779.829754270862, 3825.2477164781303, 4497.098906010523, 6859.7142539162005, 4817.847605166773, 6327.816879532166, 4186.0475344138285, 4867.858646289083, 4221.274218519793, 4850.675743107704, 4256.017132648679, 4195.144142567041, 706.5136717304829, 471.76942460751377, 266.044821919772, 278.00592093599755, 233.79633175565803, 235.87857964330317, 185.3599767092673, 417.3806149761145, 139.08455892236918, 139.06998730180393, 1340.5940190988997, 185.41002079104675, 92.83021887978694, 92.82070539369846, 92.81725249619942, 92.81214849780898, 92.806664484134, 92.79236804705064, 130.27867439765953, 132.7384609184933, 116.42654070178192, 98.22265542317015, 104.83629073933982, 97.19255192259884, 62.882452631982055, 99.35418369278386, 45.55349685409566, 46.525205764609474, 46.5231484404829, 46.52322378834104, 581.3626877106578, 23928.555032962475, 333.80335549930646, 194.82778233974418, 3414.1082644353082, 5995.52787607224, 3055.2459410438055, 1514.4421534821029, 4560.422850146059, 567.1915770473345, 2899.084713904555, 1313.801421478697, 371.46764004282664, 5404.5104938349705, 990.9961014328253, 2144.6668395657707, 923.2897478830489, 1426.822894191375, 1462.307306231053, 2387.6220900454628, 441.86788263268005, 650.7885449030366, 1041.250999967351, 17590.449405718933, 14067.50539278627, 2811.822092406367, 2708.154971105772, 2879.4901823481846, 1651.2713478987625, 1034.8937897923965, 5252.360970118681, 2435.6767787064364, 1928.5252578986097, 2166.889294750415, 1586.4279508787508, 8529.276483445816, 3809.5092933055166, 2925.375691349184, 2313.8339194662353, 5050.52326859287, 1947.3515820053237, 4769.8575027447, 5344.2200468348865, 6603.036139517281, 7484.966386645983, 7361.679993483597, 6933.249189232241, 7808.7020889401765, 5273.531542995757, 4169.8665182024915, 6020.086612810247, 6125.952895666368, 5940.216101042555, 4887.627646452811, 4355.7018547207745, 3670.3408820450204, 3834.923876880177, 4183.785246300989, 4097.032736354387, 3606.2270095394956, 3951.13663932845, 3830.954944832689, 669.7336271534895, 215.63554983699945, 125.65818664734007, 401.18943080468586, 2898.9645964154, 106.76669263616974, 105.95403512274153, 110.44162733197238, 105.88584844123005, 160.22960114476797, 112.45417427239191, 104.96633857776727, 2085.8763402126247, 98.17315746656162, 69.91800079531373, 65.261586445356, 106.95350909907788, 65.31832755800464, 138.37964144949763, 138.351366764562, 54.306982338621594, 138.27207375140912, 122.50772007062153, 138.25474315422633, 288.2876256438683, 138.18851814882152, 138.16738219498075, 138.16213139277045, 138.0988710256922, 138.0706258396454, 161.40530885764764, 2450.7530518621793, 138.05847229745083, 138.0637378491055, 578.9132152201933, 725.9746746388204, 138.0152859242158, 138.99310034143477, 4857.452699149067, 997.3976675477386, 272.7778473736124, 141.93508352140557, 138.75084071698615, 2222.8462887631085, 292.49679259095507, 264.29166603514886, 1480.9702381049235, 191.98870957748542, 4350.099658366005, 10605.172423294141, 399.6834830314467, 576.0951273732738, 379.1320496726654, 295.14956866491747, 2050.884758292264, 383.40930005515276, 289.09256182314743, 1339.681062253159, 707.0901939884674, 719.7607927062962, 3196.8861461640086, 1933.9680363672512, 1839.5871675509472, 673.1589791256935, 2793.927784992238, 3443.3127836475956, 3156.033017039211, 1261.2042243562137, 593.45256854488, 3087.7364816657623, 2663.2892419473437, 3258.3519188418927, 2837.211858547058, 4300.425417519062, 1252.2175648700004, 1913.401529076282, 1412.8314627888938, 10803.884490112992, 6283.448336063555, 5092.0288070240695, 8839.69649408563, 5892.712662481743, 2187.383904577153, 3717.468848605849, 5150.66032646396, 3711.271958033286, 7236.953898960079, 4067.2822476674646, 6590.63135694664, 5848.838611150488, 4063.6862151245377, 5358.52460053309, 4071.320999533828, 3785.155110967353, 4294.258969799763, 4180.372019747854, 4357.657509673249, 3773.1353757324873, 4256.26912081956, 3548.4751423415833, 3583.6420656571004, 3470.051520440072, 3465.411463223966, 193.4152279160935, 169.45710626143114, 121.56063043644163, 88.70141866442339, 98.96384687622826, 253.64839997579435, 95.45882047506933, 52.930126991758634, 232.96054850591196, 99.66658961429371, 29.009075872686726, 36.5825474957913, 43.58724660443503, 268.32345088817095, 100.22712784443554, 47.00132957272815, 85.7252938485207, 29.880028631510644, 100.69222727301516, 118.97089924964713, 44.73663911903393, 76.91854144916975, 119.14392542722499, 210.77409630474074, 64.75198863390403, 24.981494289137064, 24.187426640437934, 97.25792164805019, 44.26042915046503, 22.510593427034753, 2180.551197015376, 2331.491684542465, 457.0082851230552, 752.4594870795444, 248.44323987256962, 246.01631299316384, 495.0789687213666, 328.1465863671049, 2177.741162417635, 272.84696223990375, 257.32972979535515, 134.53683079924437, 246.8069430069775, 133.37503158724033, 161.905008230764, 1498.5677161219876, 812.9565203753231, 390.84419150675274, 697.3298459777274, 351.45255443769116, 296.52211409029763, 345.79336643110435, 327.2087059348926, 263.59479119681566, 220.24084859225692, 2841.7918589605115, 516.3894959478077, 681.6133087393641, 1495.326403567769, 774.4902443317281, 371.81510941096985, 360.9564487878793, 1977.9434993268665, 9255.446341843442, 3688.518802776111, 845.6712214329119, 6552.229958120994, 4084.067967672814, 14499.299110827124, 2438.517422466426, 624.8510121506483, 898.7317271217901, 2635.822440462324, 754.026459030775, 1368.4179056631212, 599.5450948622964, 639.0989293422979, 1395.8732074148534, 7239.846547813565, 5258.119205186971, 4302.352320833045, 2302.7436586748054, 13719.972491354312, 1789.9533361072774, 6224.462040458197, 4587.090378594989, 5161.18889491198, 5626.665015447479, 9654.133057341503, 11482.267740279573, 7693.179190603781, 6514.861228295364, 7618.956101702802, 5156.269912494254, 7222.263058379235, 10057.912431681063, 4927.730604618488, 6431.801172221829, 10514.78130401986, 6785.501254948635, 5882.345564832627, 8432.676201850216, 7937.858198601872, 5162.921775012438, 7352.982033667767, 5655.329948521337, 6412.641277931462, 4879.71157039062, 5110.480927937772, 5006.433213548604, 819.8962010827738, 819.948488809952, 281.2199510446452, 245.73807335658697, 245.73807335658697, 204.59533173267803, 160.82178946335003, 168.73531298150297, 1919.4683253253738, 2237.5249801670425, 2075.151778139868, 2076.4191430505616, 2075.05532233257, 353.2177714724392, 2086.0976223503285, 2084.59828752281, 129.1913018646215, 2232.5085782179785, 2041.7811486809237, 2154.160143836109, 465.4870813953781, 23347.622894949178, 118.78498545218419, 4316.559489533916, 1092.776749621202, 659.0099444216579, 2078.5942285048245, 401.94363347633134, 90.61001140058717, 32513.01105755492, 4162.598661841049, 4683.229031290233, 4498.359787111941, 4383.347786407178, 4181.623834862505, 2118.3317812089185, 4176.091555337399, 4508.014887427937, 2422.8276455055584, 2099.576936436943, 35660.84702869113, 2120.9425277260425, 2980.11906138717, 8457.307341177166, 2139.919262852977, 4960.796366105326, 4195.617346598183, 21114.834188907684, 15144.920246717957, 6102.420422451511, 6411.928488879771, 8682.081010805994, 4805.047536132621, 9055.591495202976, 20470.716587151685, 7059.6976919094395, 13409.24097252427, 4106.742769762427, 8723.946471015064, 8911.637992515743, 4784.521628344498, 4453.858521474998, 5082.804982684013, 5990.209699981916, 8716.881818098545, 7210.412340705902, 5316.727534632917, 5006.857163953152, 5179.840924764839, 5380.9125046665395, 4584.5778394204335, 5204.35665912479, 4715.10648565391], \"Total\": [37449.0, 32812.0, 23513.0, 25954.0, 25561.0, 33456.0, 18864.0, 23657.0, 23767.0, 18803.0, 9038.0, 12067.0, 10482.0, 15009.0, 13966.0, 9496.0, 7340.0, 6945.0, 13881.0, 5296.0, 24994.0, 4745.0, 28868.0, 7945.0, 10734.0, 5568.0, 4559.0, 4605.0, 4442.0, 6423.0, 89.86542159600816, 246.95772163554082, 569.4109200615231, 86.78558442256247, 142.00034204111338, 73.28975235246111, 60.734858967117006, 244.6358520169426, 130.71892297078782, 199.1655040297722, 51.788472667836224, 238.72493007179705, 52.33895133844411, 69.26810565845116, 80.28249183195408, 79.62304949650299, 73.46879840902112, 45.20041462316195, 216.7495607340559, 41.998013460950084, 275.9605464430753, 157.3578585941199, 60.79192636388059, 54.999027416881994, 77.77845916698395, 44.84258973950203, 69.53332639782465, 39.27964079763869, 417.88773163438157, 82.9288216056016, 1453.1239405525707, 1535.5570974602535, 237.38726497908866, 235.99741499066792, 502.8942884278049, 215.04274909576023, 349.4355061672097, 2847.190010855745, 346.809053662721, 1084.1857664737229, 402.054462610132, 296.0626565507455, 150.82220264963138, 1845.851434905406, 127.83351825174466, 1682.259853269893, 326.1098174282853, 2571.2433699933135, 1306.5191115226362, 430.5780784682053, 1219.5317875718156, 3598.2352679810965, 5098.327236881255, 2471.0280553547245, 5072.853480482678, 6080.590772273223, 7177.5090974244395, 10415.203138237339, 9280.26259760535, 12867.90008096003, 2413.7042236116754, 2772.5094794115166, 2194.898045800763, 1447.4331288108347, 5527.00474305335, 10279.190641399435, 2096.5066333164104, 3892.2886052236126, 1681.1363653839899, 2334.46158216788, 6840.600859161728, 2730.4745929777064, 21543.46855668846, 4879.942284464466, 10705.146976158909, 4717.064590256857, 24994.12141175459, 11470.501666023407, 11592.627127208198, 6221.979715100702, 9522.842686929425, 19045.296097953746, 8034.262616562822, 14633.534066421897, 31454.58333790287, 8188.897177040968, 28320.599453673913, 17558.40281097493, 7844.857491018178, 11103.25995753549, 31891.861987373213, 13896.695000707547, 33456.739235559835, 10296.395159001317, 32052.926845671143, 14056.764819677177, 37540.52785355386, 19790.79430959219, 19922.985709407152, 709.8661173285439, 474.5257708938944, 267.8159723428635, 279.9849834134378, 235.62557918227714, 237.80047373074703, 186.9939966938523, 421.1956587046749, 140.4837992667436, 140.4915329212512, 1354.4533367807815, 187.63691561393813, 93.98324000097699, 93.98373554567101, 93.9831445059807, 93.98656978076377, 93.98435841738477, 93.98919395165191, 132.08237728149314, 134.59393713605843, 118.10066370211119, 99.68951866659683, 106.45859680995117, 98.69923451127178, 63.90429427774525, 101.02755445395609, 46.399947786221006, 47.48283900315505, 47.48189255440144, 47.48336288643259, 596.3717248757719, 25561.321258324493, 344.00102453835507, 199.6970614961333, 3605.0179632693216, 6423.174480986142, 3239.2648245205864, 1598.1487050229382, 4948.135697509498, 594.7754722393528, 3178.9587537278644, 1421.490738023867, 389.48401605868725, 6166.97997386167, 1074.5052482765643, 2406.720174201135, 1000.4759334992843, 1585.5474480568744, 1643.7860954314688, 2765.244740606687, 470.23364560164447, 707.1669009206682, 1170.228589297479, 23767.268084448762, 18803.56005451108, 3395.785555753852, 3268.961864719908, 3573.4261975841905, 1974.9817338297833, 1184.4313435995311, 7209.7877563802795, 3112.0329717173317, 2445.194630969108, 3012.9312339250896, 2090.842037911004, 17994.239839131777, 7019.540153746032, 4905.981995660705, 3548.459724503428, 10751.013444461734, 2835.9068223331233, 11862.912176599082, 15462.99290197072, 24160.4197463124, 32052.926845671143, 31891.861987373213, 29406.134916328, 37540.52785355386, 18624.347262216714, 12360.021262553248, 28320.599453673913, 31454.58333790287, 32490.620199463796, 19922.985709407152, 16857.355459249316, 10588.61672921058, 12653.8337466988, 18680.49957067669, 19057.473941672197, 10079.677262575722, 20011.875230544814, 15886.947996349896, 674.5620747568499, 217.747012200457, 126.96463395835053, 405.57162519081646, 2931.2242150903576, 108.03422231581136, 107.22300599895483, 111.82466726599176, 107.21606351172075, 162.2957329251155, 113.90450912453606, 106.34160429343846, 2113.7352907470918, 99.4888866942354, 70.85636259368555, 66.15168178729137, 108.43098952940306, 66.25338555097318, 140.50259447963646, 140.50923920625482, 55.18261890832834, 140.51335087990182, 124.5044078821135, 140.5086065165651, 293.005635384841, 140.51635090230045, 140.5182132140045, 140.52033509974106, 140.51882954047502, 140.5136566000983, 164.29992305818985, 2566.9857174494086, 140.52286749208622, 140.5310623826832, 602.1254689075396, 763.7775984452907, 140.52902237429714, 141.5567814984732, 5342.710746464482, 1069.615580499753, 282.6913066787098, 144.68834547379615, 141.34901582326358, 2506.7945148676235, 304.98085303220984, 275.25685095850184, 1689.6786295571096, 198.31016659275474, 5363.899842265578, 13881.378392381008, 432.278115741275, 648.1292698282033, 413.71990054808765, 317.6704080567953, 2560.6500652651553, 424.49292194988976, 312.30870008502643, 1682.6158066915928, 844.1076043390278, 863.6695898051497, 4531.494232370842, 2615.1875425955973, 2477.8791127791505, 814.3592754544017, 4198.594188722902, 5467.841123071596, 4968.395164099044, 1731.1134158650832, 720.8730608949423, 5404.4445383843495, 4512.453707598528, 5856.0174691050925, 4982.830366860139, 8410.731921004553, 1810.3590335361778, 3320.135925456643, 2194.2308651467224, 37540.52785355386, 19045.296097953746, 14056.764819677177, 32490.620199463796, 19790.79430959219, 4226.758924153181, 9770.10772645494, 17558.40281097493, 10195.577108650343, 32052.926845671143, 12751.950852023327, 31454.58333790287, 28868.842067564743, 13896.695000707547, 31891.861987373213, 15575.533548711499, 12782.589313650471, 19057.473941672197, 18680.49957067669, 24160.4197463124, 15015.473055587605, 29406.134916328, 13318.860049440296, 15535.335843805271, 12237.524294132641, 13329.91613787203, 200.28715240662092, 175.6274298816883, 125.99197842874555, 92.21033871212938, 102.96922287965378, 264.1188010495805, 99.4470596156987, 55.15616748043122, 242.7861645746399, 103.88115928809408, 30.26031156874222, 38.19145501017733, 45.52373878952574, 280.26211390972634, 104.69581184182606, 49.101706119633945, 89.56637360944272, 31.246627719304552, 105.32366202212344, 124.46305008862952, 46.80380488303231, 80.49281082539359, 124.68232593520642, 220.58633844875828, 67.78306135737992, 26.155542265695523, 25.332910905222462, 101.87258982864464, 46.364915627200446, 23.582937467576038, 2308.8048031580674, 2471.421066115881, 480.2105241063288, 797.3399976042473, 260.545771597143, 258.3746687135422, 524.0195438896582, 346.010351890921, 2343.357033090007, 287.66384652923625, 271.25092138766144, 141.0096894343994, 260.4503231736119, 139.88375643377134, 170.23944928604598, 1616.2699443897393, 870.409050684307, 415.1707973351532, 749.8443380127097, 373.615983443684, 314.5726724792483, 368.22266458405244, 348.1345905291415, 279.45444896362915, 232.80207792386886, 3214.1774499051826, 555.8122371128079, 742.8313940241273, 1675.2355400502158, 850.784738338507, 399.14124208178174, 387.1079425617265, 2329.268684515901, 12185.23670568638, 4667.609933522081, 973.042697296821, 9045.474296560507, 5449.088866859032, 22199.05537948951, 3143.457109227882, 708.1653149045142, 1069.6368531803703, 3576.6472880729807, 882.0695552718228, 1749.3704182967206, 687.6580782196824, 740.9098906246819, 1893.249115095162, 13757.125420856852, 9469.410232927801, 7517.414065963537, 3487.728764044232, 32490.620199463796, 2586.0332936299324, 12333.482654028176, 8516.524760337843, 10075.687994075515, 11639.815839918363, 24160.4197463124, 32052.926845671143, 18680.49957067669, 15015.473055587605, 18624.347262216714, 11099.22920201232, 17994.239839131777, 29406.134916328, 10939.27413545501, 16857.355459249316, 37540.52785355386, 19922.985709407152, 15535.335843805271, 31891.861987373213, 28868.842067564743, 12653.8337466988, 28320.599453673913, 19057.473941672197, 31454.58333790287, 12751.950852023327, 20011.875230544814, 19790.79430959219, 820.7305066947443, 821.5164613555858, 282.0633127728692, 246.6677343223804, 246.6677343223804, 205.429705649971, 161.65605336358269, 169.63029709329854, 1930.2552400067643, 2250.4959302496513, 2087.3138944761745, 2088.6462066483987, 2087.3306493477735, 355.3525940106026, 2099.1253015903894, 2098.1057188599643, 130.0713290026673, 2247.983419661457, 2056.0767706263005, 2169.318404899114, 468.7638328570629, 23513.48008020244, 119.66107654194785, 4348.425767331688, 1101.6365792850272, 664.6249898276652, 2096.7561259336044, 405.4702523305625, 91.44426971747505, 32812.98910351406, 4209.568271134036, 4745.677107382413, 4559.262734754399, 4442.295363534565, 4247.185311562442, 2143.477914728623, 4255.961399446458, 4605.637501926057, 2460.2447298639127, 2142.088282165932, 37449.91365262597, 2170.4443272206518, 3077.2468067985305, 9038.233327064032, 2198.6607653142805, 5296.280069104425, 4523.224130814107, 25954.173870436327, 18864.741179143995, 6945.627304331294, 7340.147863292849, 10482.390768523368, 5568.596996411456, 12067.234810981445, 33456.739235559835, 9496.25847300691, 23657.172570957315, 5089.171504266093, 13966.918418438643, 15009.503265221498, 6389.350924523666, 6055.826053044149, 7945.777141418722, 10734.964173866923, 28868.842067564743, 24994.12141175459, 9785.438480814391, 10369.435891427542, 12360.021262553248, 20011.875230544814, 7176.450589029086, 29406.134916328, 15886.947996349896], \"Category\": [\"Default\", \"Default\", \"Default\", \"Default\", \"Default\", \"Default\", \"Default\", \"Default\", \"Default\", \"Default\", \"Default\", \"Default\", \"Default\", \"Default\", \"Default\", \"Default\", \"Default\", \"Default\", \"Default\", \"Default\", \"Default\", \"Default\", \"Default\", \"Default\", \"Default\", \"Default\", \"Default\", \"Default\", \"Default\", \"Default\", \"Topic1\", \"Topic1\", \"Topic1\", \"Topic1\", \"Topic1\", \"Topic1\", \"Topic1\", \"Topic1\", \"Topic1\", \"Topic1\", \"Topic1\", \"Topic1\", \"Topic1\", \"Topic1\", \"Topic1\", \"Topic1\", \"Topic1\", \"Topic1\", \"Topic1\", \"Topic1\", \"Topic1\", \"Topic1\", \"Topic1\", \"Topic1\", \"Topic1\", \"Topic1\", \"Topic1\", \"Topic1\", \"Topic1\", \"Topic1\", \"Topic1\", \"Topic1\", \"Topic1\", \"Topic1\", \"Topic1\", \"Topic1\", \"Topic1\", \"Topic1\", \"Topic1\", \"Topic1\", \"Topic1\", \"Topic1\", \"Topic1\", \"Topic1\", \"Topic1\", \"Topic1\", \"Topic1\", \"Topic1\", \"Topic1\", \"Topic1\", \"Topic1\", \"Topic1\", \"Topic1\", \"Topic1\", \"Topic1\", \"Topic1\", \"Topic1\", \"Topic1\", \"Topic1\", \"Topic1\", \"Topic1\", \"Topic1\", \"Topic1\", \"Topic1\", \"Topic1\", \"Topic1\", \"Topic1\", \"Topic1\", \"Topic1\", \"Topic1\", \"Topic1\", \"Topic1\", \"Topic1\", \"Topic1\", \"Topic1\", \"Topic1\", \"Topic1\", \"Topic1\", \"Topic1\", \"Topic1\", \"Topic1\", \"Topic1\", \"Topic1\", \"Topic1\", \"Topic1\", \"Topic1\", \"Topic1\", \"Topic1\", \"Topic1\", \"Topic1\", \"Topic1\", \"Topic1\", \"Topic1\", \"Topic1\", \"Topic1\", \"Topic1\", \"Topic1\", \"Topic1\", \"Topic1\", \"Topic2\", \"Topic2\", \"Topic2\", \"Topic2\", \"Topic2\", \"Topic2\", \"Topic2\", \"Topic2\", \"Topic2\", \"Topic2\", \"Topic2\", \"Topic2\", \"Topic2\", \"Topic2\", \"Topic2\", \"Topic2\", \"Topic2\", \"Topic2\", \"Topic2\", \"Topic2\", \"Topic2\", \"Topic2\", \"Topic2\", \"Topic2\", \"Topic2\", \"Topic2\", \"Topic2\", \"Topic2\", \"Topic2\", \"Topic2\", \"Topic2\", \"Topic2\", \"Topic2\", \"Topic2\", \"Topic2\", \"Topic2\", \"Topic2\", \"Topic2\", \"Topic2\", \"Topic2\", \"Topic2\", \"Topic2\", \"Topic2\", \"Topic2\", \"Topic2\", \"Topic2\", \"Topic2\", \"Topic2\", \"Topic2\", \"Topic2\", \"Topic2\", \"Topic2\", \"Topic2\", \"Topic2\", \"Topic2\", \"Topic2\", \"Topic2\", \"Topic2\", \"Topic2\", \"Topic2\", \"Topic2\", \"Topic2\", \"Topic2\", \"Topic2\", \"Topic2\", \"Topic2\", \"Topic2\", \"Topic2\", \"Topic2\", \"Topic2\", \"Topic2\", \"Topic2\", \"Topic2\", \"Topic2\", \"Topic2\", \"Topic2\", \"Topic2\", \"Topic2\", \"Topic2\", \"Topic2\", \"Topic2\", \"Topic2\", \"Topic2\", \"Topic2\", \"Topic2\", \"Topic2\", \"Topic2\", \"Topic2\", \"Topic2\", \"Topic2\", \"Topic2\", \"Topic2\", \"Topic3\", \"Topic3\", \"Topic3\", \"Topic3\", \"Topic3\", \"Topic3\", \"Topic3\", \"Topic3\", \"Topic3\", \"Topic3\", \"Topic3\", \"Topic3\", \"Topic3\", \"Topic3\", \"Topic3\", \"Topic3\", \"Topic3\", \"Topic3\", \"Topic3\", \"Topic3\", \"Topic3\", \"Topic3\", \"Topic3\", \"Topic3\", \"Topic3\", \"Topic3\", \"Topic3\", \"Topic3\", \"Topic3\", \"Topic3\", \"Topic3\", \"Topic3\", \"Topic3\", \"Topic3\", \"Topic3\", \"Topic3\", \"Topic3\", \"Topic3\", \"Topic3\", \"Topic3\", \"Topic3\", \"Topic3\", \"Topic3\", \"Topic3\", \"Topic3\", \"Topic3\", \"Topic3\", \"Topic3\", \"Topic3\", \"Topic3\", \"Topic3\", \"Topic3\", \"Topic3\", \"Topic3\", \"Topic3\", \"Topic3\", \"Topic3\", \"Topic3\", \"Topic3\", \"Topic3\", \"Topic3\", \"Topic3\", \"Topic3\", \"Topic3\", \"Topic3\", \"Topic3\", \"Topic3\", \"Topic3\", \"Topic3\", \"Topic3\", \"Topic3\", \"Topic3\", \"Topic3\", \"Topic3\", \"Topic3\", \"Topic3\", \"Topic3\", \"Topic3\", \"Topic3\", \"Topic3\", \"Topic3\", \"Topic3\", \"Topic3\", \"Topic3\", \"Topic3\", \"Topic3\", \"Topic3\", \"Topic3\", \"Topic3\", \"Topic3\", \"Topic3\", \"Topic3\", \"Topic3\", \"Topic3\", \"Topic3\", \"Topic3\", \"Topic3\", \"Topic3\", \"Topic3\", \"Topic3\", \"Topic3\", \"Topic3\", \"Topic3\", \"Topic4\", \"Topic4\", \"Topic4\", \"Topic4\", \"Topic4\", \"Topic4\", \"Topic4\", \"Topic4\", \"Topic4\", \"Topic4\", \"Topic4\", \"Topic4\", \"Topic4\", \"Topic4\", \"Topic4\", \"Topic4\", \"Topic4\", \"Topic4\", \"Topic4\", \"Topic4\", \"Topic4\", \"Topic4\", \"Topic4\", \"Topic4\", \"Topic4\", \"Topic4\", \"Topic4\", \"Topic4\", \"Topic4\", \"Topic4\", \"Topic4\", \"Topic4\", \"Topic4\", \"Topic4\", \"Topic4\", \"Topic4\", \"Topic4\", \"Topic4\", \"Topic4\", \"Topic4\", \"Topic4\", \"Topic4\", \"Topic4\", \"Topic4\", \"Topic4\", \"Topic4\", \"Topic4\", \"Topic4\", \"Topic4\", \"Topic4\", \"Topic4\", \"Topic4\", \"Topic4\", \"Topic4\", \"Topic4\", \"Topic4\", \"Topic4\", \"Topic4\", \"Topic4\", \"Topic4\", \"Topic4\", \"Topic4\", \"Topic4\", \"Topic4\", \"Topic4\", \"Topic4\", \"Topic4\", \"Topic4\", \"Topic4\", \"Topic4\", \"Topic4\", \"Topic4\", \"Topic4\", \"Topic4\", \"Topic4\", \"Topic4\", \"Topic4\", \"Topic4\", \"Topic4\", \"Topic4\", \"Topic4\", \"Topic4\", \"Topic4\", \"Topic4\", \"Topic4\", \"Topic4\", \"Topic4\", \"Topic4\", \"Topic4\", \"Topic4\", \"Topic4\", \"Topic4\", \"Topic4\", \"Topic4\", \"Topic4\", \"Topic4\", \"Topic4\", \"Topic4\", \"Topic4\", \"Topic4\", \"Topic4\", \"Topic4\", \"Topic4\", \"Topic4\", \"Topic4\", \"Topic4\", \"Topic4\", \"Topic4\", \"Topic4\", \"Topic4\", \"Topic5\", \"Topic5\", \"Topic5\", \"Topic5\", \"Topic5\", \"Topic5\", \"Topic5\", \"Topic5\", \"Topic5\", \"Topic5\", \"Topic5\", \"Topic5\", \"Topic5\", \"Topic5\", \"Topic5\", \"Topic5\", \"Topic5\", \"Topic5\", \"Topic5\", \"Topic5\", \"Topic5\", \"Topic5\", \"Topic5\", \"Topic5\", \"Topic5\", \"Topic5\", \"Topic5\", \"Topic5\", \"Topic5\", \"Topic5\", \"Topic5\", \"Topic5\", \"Topic5\", \"Topic5\", \"Topic5\", \"Topic5\", \"Topic5\", \"Topic5\", \"Topic5\", \"Topic5\", \"Topic5\", \"Topic5\", \"Topic5\", \"Topic5\", \"Topic5\", \"Topic5\", \"Topic5\", \"Topic5\", \"Topic5\", \"Topic5\", \"Topic5\", \"Topic5\", \"Topic5\", \"Topic5\", \"Topic5\", \"Topic5\", \"Topic5\", \"Topic5\", \"Topic5\", \"Topic5\", \"Topic5\", \"Topic5\", \"Topic5\", \"Topic5\", \"Topic5\", \"Topic5\", \"Topic5\", \"Topic5\", \"Topic5\", \"Topic5\", \"Topic5\", \"Topic5\", \"Topic5\"], \"logprob\": [30.0, 29.0, 28.0, 27.0, 26.0, 25.0, 24.0, 23.0, 22.0, 21.0, 20.0, 19.0, 18.0, 17.0, 16.0, 15.0, 14.0, 13.0, 12.0, 11.0, 10.0, 9.0, 8.0, 7.0, 6.0, 5.0, 4.0, 3.0, 2.0, 1.0, -10.1697, -9.159, -8.326, -10.2084, -9.7162, -10.3777, -10.566, -9.173, -9.8003, -9.3796, -10.7275, -9.2, -10.7178, -10.4381, -10.2908, -10.2994, -10.3802, -10.8662, -9.2991, -10.9402, -9.058, -9.6205, -10.5718, -10.6721, -10.3256, -10.8766, -10.438, -11.0091, -8.6448, -10.2623, -7.4104, -7.3562, -9.211, -9.2176, -8.4696, -9.3125, -8.8363, -6.7671, -8.8482, -7.7354, -8.7113, -9.0112, -9.6725, -7.2185, -9.8354, -7.3258, -8.9189, -6.9351, -7.5878, -8.6587, -7.6647, -6.632, -6.3071, -7.0021, -6.3245, -6.1658, -6.0186, -5.6917, -5.8033, -5.5002, -7.061, -6.938, -7.1657, -7.5449, -6.3277, -5.7867, -7.2202, -6.6734, -7.4315, -7.1405, -6.2187, -7.0192, -5.4126, -6.5911, -5.9862, -6.6176, -5.4301, -6.0064, -6.0065, -6.4513, -6.1694, -5.7738, -6.3329, -5.9566, -5.4934, -6.3596, -5.6902, -5.9973, -6.41, -6.2482, -5.826, -6.1793, -5.9067, -6.3199, -6.169, -6.3115, -6.1725, -6.3033, -6.3177, -7.8435, -8.2474, -8.8202, -8.7762, -8.9494, -8.9405, -9.1816, -8.3699, -9.4688, -9.4689, -7.203, -9.1813, -9.8731, -9.8732, -9.8732, -9.8733, -9.8733, -9.8735, -9.5342, -9.5155, -9.6466, -9.8166, -9.7515, -9.8272, -10.2626, -9.8052, -10.585, -10.5639, -10.5639, -10.5639, -8.0385, -4.321, -8.5933, -9.1317, -6.2682, -5.7051, -6.3792, -7.081, -5.9787, -8.0632, -6.4317, -7.2232, -8.4864, -5.8089, -7.5051, -6.7331, -7.5759, -7.1406, -7.1161, -6.6258, -8.3128, -7.9257, -7.4557, -4.6287, -4.8522, -6.4623, -6.4998, -6.4385, -6.9945, -7.4618, -5.8374, -6.6059, -6.8393, -6.7228, -7.0346, -5.3526, -6.1586, -6.4227, -6.6572, -5.8766, -6.8296, -5.9338, -5.8201, -5.6086, -5.4832, -5.4998, -5.5598, -5.4409, -5.8334, -6.0682, -5.701, -5.6836, -5.7143, -5.9094, -6.0246, -6.1958, -6.1519, -6.0649, -6.0858, -6.2134, -6.1221, -6.153, -8.0153, -9.1486, -9.6886, -8.5277, -6.55, -9.8515, -9.8591, -9.8177, -9.8598, -9.4455, -9.7996, -9.8685, -6.8792, -9.9354, -10.2748, -10.3437, -9.8497, -10.3429, -9.5921, -9.5923, -10.5275, -9.5929, -9.714, -9.593, -8.8582, -9.5935, -9.5937, -9.5937, -9.5942, -9.5944, -9.4382, -6.718, -9.5945, -9.5944, -8.161, -7.9346, -9.5948, -9.5877, -6.0339, -7.617, -8.9135, -9.5668, -9.5895, -6.8156, -8.8437, -8.9451, -7.2217, -9.2647, -6.1442, -5.253, -8.5315, -8.1659, -8.5843, -8.8347, -6.8961, -8.573, -8.8554, -7.322, -7.961, -7.9432, -6.4522, -6.9548, -7.0048, -8.0102, -6.5869, -6.378, -6.4651, -7.3823, -8.1362, -6.4869, -6.6348, -6.4332, -6.5716, -6.1557, -7.3895, -6.9655, -7.2688, -5.2345, -5.7765, -5.9867, -5.4351, -5.8407, -6.8317, -6.3013, -5.9753, -6.303, -5.6352, -6.2114, -5.7287, -5.8481, -6.2123, -5.9357, -6.2104, -6.2833, -6.1571, -6.184, -6.1425, -6.2865, -6.166, -6.3479, -6.338, -6.3702, -6.3716, -9.4191, -9.5513, -9.8835, -10.1987, -10.0892, -9.148, -10.1253, -10.715, -9.2331, -10.0821, -11.3163, -11.0844, -10.9092, -9.0918, -10.0765, -10.8338, -10.2328, -11.2868, -10.0719, -9.9051, -10.8832, -10.3412, -9.9036, -9.3332, -10.5134, -11.4658, -11.4981, -10.1066, -10.8939, -11.57, -6.9966, -6.9297, -8.5592, -8.0606, -9.1687, -9.1785, -8.4792, -8.8905, -6.9979, -9.075, -9.1336, -9.7821, -9.1753, -9.7908, -9.5969, -7.3717, -7.9833, -8.7156, -8.1367, -8.8219, -8.9918, -8.8381, -8.8933, -9.1095, -9.2892, -6.7318, -8.4371, -8.1595, -7.3738, -8.0317, -8.7655, -8.7952, -7.0941, -5.551, -6.471, -7.9438, -5.8964, -6.3691, -5.1021, -6.8848, -8.2464, -7.883, -6.807, -8.0585, -7.4625, -8.2878, -8.2239, -7.4427, -5.7966, -6.1164, -6.317, -6.9421, -5.1573, -7.194, -5.9477, -6.2529, -6.135, -6.0487, -5.5088, -5.3354, -5.7359, -5.9021, -5.7456, -6.136, -5.799, -5.4678, -6.1813, -5.9149, -5.4234, -5.8614, -6.0042, -5.6441, -5.7045, -6.1347, -5.7811, -6.0436, -5.9179, -6.1911, -6.1449, -6.1655, -7.2908, -7.2907, -8.3608, -8.4957, -8.4957, -8.6789, -8.9196, -8.8716, -6.4401, -6.2868, -6.3622, -6.3615, -6.3622, -8.1329, -6.3569, -6.3576, -9.1387, -6.2891, -6.3784, -6.3248, -7.8569, -3.9417, -9.2226, -5.6297, -7.0035, -7.5092, -6.3605, -8.0036, -9.4934, -3.6105, -5.6661, -5.5482, -5.5885, -5.6144, -5.6615, -6.3416, -5.6628, -5.5863, -6.2073, -6.3505, -3.5181, -6.3403, -6.0002, -4.9572, -6.3314, -5.4906, -5.6581, -4.0422, -4.3745, -5.2835, -5.234, -4.9309, -5.5225, -4.8888, -4.0732, -5.1378, -4.4962, -5.6796, -4.9261, -4.9048, -5.5268, -5.5984, -5.4663, -5.3021, -4.9269, -5.1167, -5.4213, -5.4814, -5.4474, -5.4093, -5.5695, -5.4427, -5.5414], \"loglift\": [30.0, 29.0, 28.0, 27.0, 26.0, 25.0, 24.0, 23.0, 22.0, 21.0, 20.0, 19.0, 18.0, 17.0, 16.0, 15.0, 14.0, 13.0, 12.0, 11.0, 10.0, 9.0, 8.0, 7.0, 6.0, 5.0, 4.0, 3.0, 2.0, 1.0, 1.4236, 1.4235, 1.4211, 1.4198, 1.4197, 1.4196, 1.4192, 1.4189, 1.4183, 1.418, 1.417, 1.4164, 1.4161, 1.4156, 1.4153, 1.4149, 1.4146, 1.4144, 1.4139, 1.4138, 1.4134, 1.4127, 1.4124, 1.4123, 1.4122, 1.4119, 1.4119, 1.4118, 1.4116, 1.4114, 1.3998, 1.3988, 1.411, 1.4103, 1.4017, 1.4084, 1.399, 1.3705, 1.3947, 1.3677, 1.3838, 1.3899, 1.4031, 1.3524, 1.4055, 1.338, 1.3856, 1.3044, 1.3287, 1.3678, 1.3208, 1.2715, 1.2479, 1.2772, 1.2355, 1.213, 1.1944, 1.149, 1.1527, 1.129, 1.2418, 1.2261, 1.2321, 1.2693, 1.1466, 1.0671, 1.2235, 1.1516, 1.2329, 1.1956, 1.0423, 1.1602, 0.7013, 1.0077, 0.827, 1.0151, 0.5351, 0.7378, 0.7271, 0.9046, 0.7609, 0.4633, 0.7673, 0.544, 0.242, 0.7215, 0.1501, 0.3211, 0.714, 0.5285, -0.1044, 0.3729, -0.233, 0.5322, -0.4525, 0.2293, -0.614, -0.1046, -0.1257, 1.6831, 1.682, 1.6812, 1.6807, 1.68, 1.6797, 1.6791, 1.6787, 1.6778, 1.6777, 1.6775, 1.6759, 1.6755, 1.6754, 1.6753, 1.6753, 1.6752, 1.675, 1.6741, 1.6739, 1.6736, 1.673, 1.6725, 1.6724, 1.6717, 1.6711, 1.6694, 1.6675, 1.6674, 1.6674, 1.6623, 1.6218, 1.6577, 1.6631, 1.6334, 1.6189, 1.6293, 1.634, 1.6062, 1.6403, 1.5957, 1.609, 1.6405, 1.5559, 1.6069, 1.5725, 1.6075, 1.5823, 1.5708, 1.541, 1.6256, 1.6047, 1.5711, 1.3869, 1.3977, 1.4991, 1.4996, 1.4719, 1.5088, 1.5529, 1.3711, 1.4428, 1.4505, 1.3582, 1.4117, 0.9413, 1.0766, 1.1708, 1.2602, 0.9323, 1.3119, 0.7767, 0.6254, 0.3906, 0.2333, 0.2218, 0.243, 0.1176, 0.4261, 0.6012, 0.1393, 0.0518, -0.0114, 0.2827, 0.3345, 0.6283, 0.494, 0.1916, 0.1506, 0.66, 0.0655, 0.2654, 1.5624, 1.5598, 1.5592, 1.5587, 1.5585, 1.5577, 1.5576, 1.5571, 1.5571, 1.5567, 1.5567, 1.5565, 1.5563, 1.5562, 1.5562, 1.556, 1.5558, 1.5553, 1.5543, 1.5541, 1.5535, 1.5535, 1.5534, 1.5534, 1.5533, 1.5528, 1.5527, 1.5526, 1.5522, 1.552, 1.5518, 1.5232, 1.5518, 1.5518, 1.5302, 1.5188, 1.5515, 1.5513, 1.4743, 1.4996, 1.5338, 1.5503, 1.551, 1.4493, 1.5277, 1.5289, 1.4377, 1.5371, 1.36, 1.3003, 1.4911, 1.4517, 1.4822, 1.496, 1.3475, 1.4677, 1.4923, 1.3416, 1.3924, 1.3873, 1.2207, 1.2678, 1.2717, 1.3791, 1.1622, 1.1071, 1.1158, 1.2528, 1.375, 1.0098, 1.0423, 0.9833, 1.0064, 0.8987, 1.2009, 1.0184, 1.1293, 0.324, 0.4606, 0.5541, 0.2678, 0.358, 0.9108, 0.6033, 0.3431, 0.559, 0.0814, 0.4268, 0.0066, -0.027, 0.34, -0.2141, 0.2278, 0.3525, 0.0794, 0.0725, -0.1432, 0.1884, -0.3633, 0.2469, 0.1028, 0.3092, 0.2224, 1.3728, 1.372, 1.3719, 1.3689, 1.3681, 1.3673, 1.3668, 1.3665, 1.3664, 1.3663, 1.3655, 1.3647, 1.3643, 1.3642, 1.3641, 1.364, 1.3639, 1.363, 1.3628, 1.3626, 1.3626, 1.3623, 1.3623, 1.3622, 1.362, 1.3618, 1.3615, 1.3614, 1.3613, 1.3612, 1.3506, 1.3494, 1.3582, 1.3498, 1.3602, 1.3587, 1.3509, 1.3547, 1.3344, 1.3549, 1.355, 1.3607, 1.3539, 1.3601, 1.3575, 1.3321, 1.3394, 1.3474, 1.3351, 1.3466, 1.3486, 1.3449, 1.3457, 1.3493, 1.3523, 1.2846, 1.3342, 1.3217, 1.2941, 1.3138, 1.3368, 1.3378, 1.2442, 1.1327, 1.1723, 1.2674, 1.0853, 1.1194, 0.9818, 1.1538, 1.2826, 1.2336, 1.1025, 1.2509, 1.1621, 1.2706, 1.2599, 1.103, 0.7658, 0.8194, 0.8497, 0.9926, 0.5456, 1.0398, 0.7239, 0.789, 0.7388, 0.6808, 0.4904, 0.3811, 0.5206, 0.5727, 0.5139, 0.6411, 0.4949, 0.3349, 0.6103, 0.4442, 0.1351, 0.3306, 0.4366, 0.0775, 0.1166, 0.5113, 0.0593, 0.1929, -0.1825, 0.4471, 0.0427, 0.0332, 2.0907, 2.0898, 2.0887, 2.088, 2.088, 2.0877, 2.0866, 2.0864, 2.0861, 2.086, 2.0859, 2.0859, 2.0858, 2.0857, 2.0855, 2.0853, 2.0849, 2.0848, 2.0848, 2.0847, 2.0847, 2.0847, 2.0844, 2.0844, 2.0837, 2.0832, 2.083, 2.083, 2.0826, 2.0826, 2.0805, 2.0785, 2.0783, 2.0784, 2.0762, 2.0799, 2.0728, 2.0703, 2.0764, 2.0717, 2.0428, 2.0687, 2.0597, 2.0253, 2.0647, 2.0263, 2.0165, 1.8854, 1.8721, 1.9623, 1.9565, 1.9033, 1.9443, 1.8046, 1.6005, 1.7952, 1.524, 1.8772, 1.6211, 1.5704, 1.8025, 1.7845, 1.645, 1.5084, 0.8942, 0.8486, 1.4817, 1.3637, 1.222, 0.7783, 1.6436, 0.36, 0.877]}, \"token.table\": {\"Topic\": [1, 3, 4, 5, 1, 2, 3, 4, 5, 1, 2, 3, 4, 5, 1, 2, 3, 4, 5, 1, 2, 3, 4, 5, 1, 2, 3, 4, 5, 1, 2, 3, 4, 5, 1, 2, 3, 4, 5, 3, 1, 2, 3, 4, 5, 1, 2, 3, 4, 5, 1, 2, 3, 4, 1, 1, 2, 3, 4, 5, 1, 2, 3, 4, 2, 1, 5, 1, 2, 3, 4, 5, 1, 2, 3, 4, 5, 5, 1, 2, 3, 4, 5, 1, 2, 3, 4, 5, 3, 1, 2, 3, 4, 5, 5, 1, 2, 1, 2, 3, 4, 5, 2, 1, 2, 3, 4, 5, 1, 2, 3, 4, 5, 1, 2, 3, 4, 5, 1, 2, 3, 4, 5, 1, 2, 3, 4, 5, 1, 2, 3, 4, 5, 1, 1, 2, 3, 4, 5, 1, 4, 5, 1, 2, 3, 4, 5, 1, 2, 3, 4, 5, 1, 2, 3, 4, 5, 1, 3, 1, 2, 3, 4, 5, 1, 2, 3, 4, 5, 1, 2, 3, 4, 5, 1, 2, 3, 4, 5, 1, 2, 3, 4, 5, 1, 2, 3, 4, 5, 1, 3, 4, 1, 1, 2, 3, 4, 5, 1, 2, 3, 4, 5, 1, 2, 3, 4, 5, 1, 3, 4, 1, 2, 3, 4, 5, 1, 2, 3, 4, 1, 3, 4, 1, 3, 1, 5, 1, 2, 3, 4, 5, 5, 1, 2, 3, 4, 5, 1, 2, 3, 4, 5, 1, 2, 3, 4, 5, 1, 2, 3, 4, 5, 1, 2, 3, 4, 5, 1, 3, 4, 1, 2, 3, 4, 5, 1, 2, 3, 4, 5, 1, 2, 3, 4, 5, 1, 2, 3, 4, 5, 5, 1, 2, 3, 4, 5, 1, 2, 3, 4, 5, 2, 5, 1, 2, 3, 4, 5, 1, 2, 3, 4, 5, 1, 2, 3, 4, 5, 1, 3, 1, 1, 2, 3, 4, 5, 1, 2, 3, 4, 5, 1, 2, 3, 4, 5, 1, 2, 3, 4, 5, 5, 1, 2, 3, 4, 5, 1, 2, 3, 4, 5, 1, 2, 3, 4, 5, 1, 2, 3, 4, 5, 2, 1, 2, 3, 4, 5, 1, 2, 3, 4, 5, 5, 1, 2, 3, 4, 5, 1, 2, 3, 4, 5, 1, 2, 3, 4, 5, 1, 2, 3, 4, 5, 1, 2, 3, 4, 5, 1, 2, 3, 4, 5, 1, 2, 3, 4, 5, 1, 2, 3, 4, 5, 5, 4, 1, 2, 3, 4, 5, 1, 3, 4, 5, 1, 2, 3, 4, 1, 3, 1, 2, 3, 4, 5, 1, 1, 2, 3, 4, 5, 1, 1, 2, 3, 4, 5, 1, 2, 3, 4, 5, 1, 2, 3, 4, 5, 1, 2, 3, 4, 5, 1, 3, 4, 5, 1, 3, 4, 5, 1, 2, 3, 4, 5, 1, 3, 4, 5, 1, 2, 3, 4, 5, 1, 2, 3, 4, 5, 1, 3, 4, 1, 2, 3, 4, 5, 3, 4, 1, 2, 3, 4, 5, 1, 2, 3, 4, 1, 2, 3, 4, 1, 2, 3, 4, 5, 1, 2, 3, 4, 5, 1, 2, 5, 2, 1, 2, 3, 4, 5, 1, 2, 3, 4, 5, 3, 1, 2, 3, 4, 5, 1, 2, 3, 4, 5, 1, 3, 4, 2, 3, 1, 2, 3, 4, 5, 1, 2, 3, 4, 5, 1, 2, 3, 4, 5, 1, 2, 3, 4, 5, 1, 2, 3, 4, 5, 1, 2, 3, 4, 5, 1, 2, 3, 4, 5, 1, 2, 3, 4, 5, 1, 5, 1, 2, 3, 4, 5, 1, 2, 3, 4, 5, 1, 2, 3, 4, 5, 1, 3, 4, 1, 2, 3, 5, 1, 2, 3, 4, 5, 1, 3, 4, 5, 4, 2, 2, 1, 2, 3, 4, 5, 1, 2, 3, 4, 5, 1, 2, 3, 4, 5, 1, 2, 3, 4, 5, 1, 2, 3, 4, 5, 1, 2, 3, 4, 5, 3, 1, 2, 3, 4, 5, 1, 2, 3, 4, 5, 1, 2, 3, 4, 5, 1, 2, 3, 4, 5, 1, 2, 3, 4, 5, 1, 2, 3, 4, 5, 1, 2, 3, 4, 5, 1, 2, 3, 4, 5, 1, 2, 3, 4, 5, 1, 2, 3, 4, 5, 1, 3, 4, 5, 1, 4, 1, 2, 3, 4, 5, 1, 2, 3, 4, 5, 1, 5, 1, 2, 3, 4, 5, 2, 1, 2, 3, 4, 5, 1, 2, 3, 4, 5, 1, 2, 3, 4, 5, 1, 2, 3, 4, 1, 2, 3, 4, 5, 1, 2, 3, 4, 5, 1, 2, 3, 4, 5, 3, 4, 1, 2, 3, 4, 5, 1, 2, 3, 4, 5, 1, 2, 3, 4, 5, 1, 2, 3, 4, 1, 2, 3, 4, 1, 3, 4, 4, 1, 2, 3, 4, 5, 1, 2, 3, 4, 5, 1, 2, 3, 4, 5, 1, 2, 3, 2, 5, 1, 2, 3, 4, 5, 1, 2, 3, 4, 5, 4, 1, 2, 3, 1, 2, 3, 4, 1, 1, 2, 3, 4, 5, 1, 2, 3, 4, 5, 1, 2, 3, 4, 5, 1, 2, 3, 4, 5, 1, 2, 3, 4, 5, 1, 2, 3, 4, 5, 5, 1, 2, 3, 4, 5, 1, 2, 3, 4, 5, 1, 2, 3, 4, 5, 1, 2, 3, 4, 5, 1, 2, 3, 4, 5, 1, 2, 3, 4, 5, 1, 2, 3, 4, 5, 1, 3, 1, 2, 3, 4, 5, 2, 1, 2, 3, 4, 5, 2, 5, 1, 2, 3, 4, 5, 1, 2, 3, 4, 5, 1, 3, 4, 1, 2, 3, 4, 5, 1, 3, 4, 1, 2, 2, 1, 2, 3, 4, 5, 1, 3, 1, 2, 3, 4, 5, 1, 2, 3, 4, 5, 1, 2, 3, 4, 5, 1, 2, 3, 4, 5, 1, 2, 3, 4, 5, 1, 2, 3, 4, 5, 1, 2, 3, 4, 5, 1, 2, 3, 4, 5, 1, 2, 3, 4, 5, 1, 2, 3, 4, 5, 1, 3, 5, 1, 3, 5, 1, 2, 3, 4, 5, 1, 2, 3, 1, 2, 3, 4, 5, 1, 3, 4, 2, 5, 1, 2, 3, 4, 5, 1, 2, 3, 4, 5, 1, 2, 3, 4, 5, 3, 1, 2, 3, 4, 5, 1, 2, 3, 4, 5, 1, 2, 3, 4, 5, 1, 2, 3, 4, 5, 1, 2, 3, 4, 5, 1, 1, 2, 3, 4, 5, 1, 2, 3, 4, 5, 1, 2, 3, 4, 5, 1, 2, 3, 4, 1, 3, 4, 1, 3, 4, 1, 2, 3, 4, 5, 1, 2, 3, 4, 5, 1, 2, 3, 4, 5, 1, 2, 3, 4, 5, 5, 1, 2, 3, 4, 1, 2, 3, 4, 1, 2, 3, 4, 5, 1, 2, 3, 4, 5, 3, 4, 1, 1, 2, 3, 4, 5, 5, 1, 2, 4, 1, 1, 2, 3, 4, 5, 1, 2, 3, 4, 5, 1, 2, 3, 4, 5, 1, 2, 3, 4, 5, 1, 2, 3, 4, 5, 1, 2, 3, 1, 2, 3, 4, 1, 3, 1, 2, 3, 4, 5, 1, 2, 3, 4, 5, 1, 2, 3, 4, 5, 3, 1, 2, 3, 5, 1, 2, 3, 4, 5, 1, 2, 3, 4, 5, 1, 3, 4, 5, 1, 2, 3, 4, 5, 1, 2, 3, 4, 5, 1, 2, 3, 4, 5, 1, 2, 3, 4, 5, 3, 1, 2, 3, 4, 5, 1, 2, 3, 4, 5, 1, 2, 3, 4, 5, 1, 2, 3, 4, 5, 1, 2, 3, 4, 5, 1, 2, 3, 4, 5, 1, 2, 3, 4, 5, 2, 1, 2, 3, 4, 5, 1, 2, 3, 4, 5, 1, 2, 3, 4, 5, 1, 2, 3, 4, 5, 1, 2, 3, 4, 5, 2, 3, 4, 5, 2, 1, 2, 3, 4, 5, 1, 2, 3, 4, 5, 1, 2, 3, 4, 5, 1, 3, 4, 1, 2, 3, 4, 1, 2, 3, 4, 5, 1, 2, 3, 4, 5, 1, 2, 3, 4, 5, 1, 5, 1, 1, 2, 3, 4, 5, 1, 2, 3, 4, 5, 2, 3, 4, 1, 2, 3, 4, 5, 1, 2, 3, 4, 5, 1, 2, 3, 4, 5, 1, 2, 3, 4, 1, 2, 3, 4, 5, 1, 3, 4, 5, 1, 2, 3, 4, 1, 2, 3, 4, 5, 1, 2, 3, 4, 5, 1, 2, 3, 4, 5, 1, 2, 3, 4, 5, 1, 2, 3, 4, 5, 1, 2, 3, 4, 5, 1, 2, 3, 4, 5, 1, 2, 3, 4, 5, 1, 3, 4, 5, 1, 2, 3, 4, 5, 1, 2, 3, 4, 5, 1, 2, 3, 4, 5, 3, 1, 2, 3, 4, 5, 2, 5, 1, 2, 3, 4, 5, 1, 2, 3, 4, 5, 1, 2, 3, 4, 1, 2, 3, 4, 5, 1, 2, 3, 4, 5, 1, 2, 3, 4, 5, 1, 2, 3, 4, 5, 1, 2, 3, 4, 5, 1, 2, 3, 4, 5, 1, 2, 3, 4, 5, 2, 5, 2, 5, 1, 2, 3, 4, 5, 1, 2, 3, 4, 5, 1, 2, 3, 4, 5, 1, 3, 4, 1, 1, 3, 4, 5, 1, 2, 3, 4, 5, 1, 2, 3, 4, 5, 1, 2, 3, 4, 5, 1, 2, 3, 4, 5, 1, 2, 3, 4, 5, 1, 2, 3, 4, 5, 1, 2, 3, 4, 5, 1, 2, 3, 4, 5, 1, 2, 3, 4, 5, 1, 2, 3, 4, 5, 1, 3, 4, 1, 2, 3, 1, 3, 4, 1, 2, 3, 4, 5, 1, 2, 3, 4, 5, 1, 2, 3, 4, 5, 3, 4, 1, 2, 4, 1, 2, 3, 4, 5, 1, 2, 3, 4, 5, 3, 1, 2, 3, 5, 1, 2, 3, 4, 5, 1, 3, 4, 1, 2, 3, 4, 5, 1, 2, 3, 4, 5, 1, 2, 3, 4, 5, 1, 2, 3, 1, 2, 3, 4, 5, 1, 2, 3, 4, 5, 1, 2, 3, 4, 5, 2, 3, 4, 1, 2, 3, 4, 5, 1, 2, 3, 4, 5, 1, 2, 3, 4, 5, 1, 2, 3, 4, 5, 3, 4, 1, 2, 3, 4, 5, 1, 2, 3, 4, 5, 1, 2, 3, 4, 5, 1, 2, 3, 4, 5, 1, 2, 3, 4, 5, 3, 1, 2, 3, 4, 1, 2, 3, 4, 5, 1, 2, 3, 4, 5, 2, 5, 2, 5, 2, 4, 1, 4, 5, 2, 1, 2, 3, 4, 5, 1, 3, 4, 1, 2, 3, 4, 5, 1, 3, 4, 1, 2, 3, 4, 5, 1], \"Freq\": [0.0010361324028800415, 0.0005180662014400208, 0.004144529611520166, 0.9941690405633998, 0.0063675125425721665, 0.004548223244694405, 0.007731979515980488, 0.007731979515980488, 0.9733197743646026, 0.6541060967384569, 0.09856673951478626, 0.09487817130009571, 0.10819800096425601, 0.044262818576286556, 0.06728965958712643, 0.04370142211057507, 0.058233461270236174, 0.08740284422115013, 0.7434506990377349, 0.0028615631192342086, 0.00047692718653903474, 0.0009538543730780695, 0.004769271865390347, 0.9915316208146533, 0.8316453226713022, 0.057862115610385415, 0.06119654261166186, 0.03550184042535512, 0.013729993534667726, 0.9100853218509128, 0.027344170349537553, 0.02080534700508292, 0.03328855520813267, 0.008322138802033167, 0.2721401026554305, 0.01769677062838693, 0.011147572049377594, 0.06033623371725622, 0.6388952230799533, 0.9850346431274151, 0.01072387171776194, 0.0038995897155497962, 0.014298495623682586, 0.0025997264770331974, 0.968398112694866, 0.21510189661287402, 0.23084258933877239, 0.16803659824320583, 0.26442482421812924, 0.12162977506725049, 0.014531881717280296, 0.007265940858640148, 0.9591041933404995, 0.01816485214660037, 0.9674222887059696, 0.015358015114973254, 0.015358015114973254, 0.019197518893716566, 0.9483574333495984, 0.0038395037787433135, 0.004748387023149063, 0.9900386943265796, 0.0023741935115745316, 0.0023741935115745316, 0.9895030770559551, 0.9767412394357318, 0.01205853382019422, 0.035221561221334005, 0.009605880333091094, 0.9253664720877753, 0.025615680888242915, 0.0032019601110303644, 0.035144620755499144, 0.029476133536870248, 0.0748240312859014, 0.8548078725692372, 0.006802184662354673, 0.9972929806802064, 0.013894202298713897, 0.0034735505746784742, 0.8336521379228339, 0.07873381302604542, 0.06947101149356949, 0.30028246571297035, 0.11076517391970975, 0.36224551419342454, 0.12349925621362629, 0.10315318059317864, 0.9785689963302946, 0.545999042611672, 0.0891160114031711, 0.11060100367018301, 0.21569063975882818, 0.03857957307076485, 0.9962842893981854, 0.9787317718095692, 0.019143897737106487, 0.9371087791573811, 0.011068213927055683, 0.03597169526293097, 0.011068213927055683, 0.003689404642351894, 0.9895329171589167, 0.006791664526303747, 0.9431152330844522, 0.012348480956915904, 0.03148862644013556, 0.006174240478457952, 0.1797838396459979, 0.14310126679951496, 0.3639813578430432, 0.27727709475135626, 0.03589791888185228, 0.010578469023287901, 0.048190803328311556, 0.02703386528173575, 0.9097483360027596, 0.004701541788127956, 0.021181494891517712, 0.06778078365285668, 0.024005694210386744, 0.8825622871465714, 0.004236298978303543, 0.023117363083683694, 0.8894101270617253, 0.01885890146300512, 0.05170989110823984, 0.0170338464827143, 0.004167340446332822, 0.0008773348308069098, 0.0017546696616138197, 0.006580011231051824, 0.98656301724237, 0.9762366507673502, 0.011387742799329827, 0.011387742799329827, 0.005693871399664914, 0.9622642665433704, 0.005693871399664914, 0.002466272172254804, 0.004932544344509608, 0.9914414132464313, 0.21773742918667607, 0.40209351034473284, 0.1445682117906115, 0.22296380185782355, 0.012644450010840655, 0.035337920498740225, 0.8280852703538125, 0.08157169981792535, 0.040638608573551255, 0.014724133541141758, 0.016635055597251664, 0.8635763644834126, 0.04773537693124391, 0.06400880088507706, 0.007955896155207318, 0.980007861284951, 0.01361122029562432, 0.01105163319344293, 0.012279592437158812, 0.826416571020788, 0.14244327227104223, 0.008595714706011169, 0.05149192834865732, 0.0363104175589316, 0.09515833567168282, 0.06823854334350939, 0.7489023621529642, 0.9670757293598051, 0.020839342316170885, 0.0039073766842820405, 0.007163523921183741, 0.0006512294473803402, 0.016069026097109224, 0.016069026097109224, 0.008034513048554612, 0.9561070527779988, 0.008034513048554612, 0.7894754036982319, 0.11480163222524478, 0.013707657579133706, 0.06553973780023303, 0.016706207674569203, 0.008134411997545254, 0.9473461357141165, 0.01126303199660112, 0.02753185599169163, 0.005005791998489387, 0.006161591447764112, 0.985854631642258, 0.006161591447764112, 0.9903698043069482, 0.015157223767680644, 0.9215592050749831, 0.008892237943705977, 0.04506747866923711, 0.009296430577510796, 0.1360672449355791, 0.05017228795559701, 0.5693551237201149, 0.2297890788366343, 0.014449618931211938, 0.021725984762607894, 0.013578740476629932, 0.019010236667281907, 0.9396488409827913, 0.00814724428597796, 0.004592485517456397, 0.9919768717705816, 0.004592485517456397, 0.09162665643045605, 0.15271109405076008, 0.6296817925949304, 0.1201571123249693, 0.0058524012091309245, 0.006823087738234819, 0.0006823087738234819, 0.989006567657137, 0.0034115438691174095, 0.007117306293905723, 0.9821882685589898, 0.007117306293905723, 0.9859131181491505, 0.007042236558208218, 0.9773060067920526, 0.016850103565380217, 0.32918711697325875, 0.12011343074335687, 0.2933638130673453, 0.09482639269212385, 0.16254325810409698, 0.9972929806802064, 0.017991687358208337, 0.017991687358208337, 0.02518836230149167, 0.9283710676835502, 0.010795012414925002, 0.05067936769087693, 0.03541796719305604, 0.010942136205984792, 0.02433185551067671, 0.8785383569594631, 0.010844770922292031, 0.010844770922292031, 0.010844770922292031, 0.9651846120839908, 0.010844770922292031, 0.053310738783400625, 0.029617077101889235, 0.8375709404414275, 0.07108098504453417, 0.008292781588528987, 0.03818763657227702, 0.33737806039490503, 0.05412612048062146, 0.15121333210505455, 0.4190931301788029, 0.0071158645145432565, 0.9819893030069694, 0.0071158645145432565, 0.008411145802174896, 0.9361409669778749, 0.0037947960130742557, 0.04428566068866038, 0.007393983984237467, 0.05511822531025764, 0.06656353985555705, 0.5761812296094145, 0.29667460071368185, 0.005120272296581311, 0.13174387811625304, 0.2365988541927361, 0.06810289599592403, 0.5385999722987992, 0.025010201460572104, 0.025832588021377126, 0.012916294010688563, 0.025832588021377126, 0.9325564275717143, 0.0051665176042754255, 0.9991099311055388, 0.008320378273117022, 0.01604644381243997, 0.7963790632840578, 0.1765108819368397, 0.002971563668970365, 0.04148262123275615, 0.008619765450962318, 0.025140982565306762, 0.06195456417879166, 0.862874437330707, 0.988157437326117, 0.007429755167865542, 0.09371996848178359, 0.0988080928652079, 0.039309864188068595, 0.7595256640095508, 0.008616984842896039, 0.015481393822065299, 0.015481393822065299, 0.011611045366548974, 0.9521057200570159, 0.0077406969110326495, 0.7553396724113413, 0.07990157759181195, 0.0834984331747231, 0.061917299677256205, 0.019525787450089094, 0.9841061631370712, 0.010041899623847664, 0.9879005404867265, 0.014825906253023055, 0.016042958258868232, 0.005200131297702117, 0.028213478317319993, 0.9356917103120596, 0.031062044559102026, 0.03228817789696131, 0.033241837159740766, 0.029835911221242736, 0.8735518847059744, 0.0032895035189512947, 0.0011748226853397481, 0.007048936112038488, 0.007283900649106438, 0.9812119067957575, 0.02147747152684395, 0.01718197722147516, 0.012886482916106369, 0.9450087471811338, 0.00429549430536879, 0.9979082594281512, 0.02298415593002332, 0.012076420912385135, 0.9548163760082571, 0.00895992519305994, 0.0011686858947469487, 0.1395071618616186, 0.17092953801093402, 0.38044616334529446, 0.27502255606908965, 0.033981201568640776, 0.8030469707426957, 0.0763083748565658, 0.05986260441334041, 0.04160779922136023, 0.01907709371414145, 0.407735876453222, 0.097102833102931, 0.12358906116808976, 0.08309954031923679, 0.28846783134410076, 0.9895263591308117, 0.004277068147238734, 0.0004502176997093404, 0.0009004353994186808, 0.007653700895058788, 0.9866520889130196, 0.03679562311508646, 0.033559149458890374, 0.013832071935409467, 0.10225715575648112, 0.8135493006021473, 0.9944754254177539, 0.14510175393081376, 0.09716458077856818, 0.08575096812327161, 0.5122230862085704, 0.15969132836845373, 0.13838643732144612, 0.021127700354419257, 0.05915756099237392, 0.7373567423692321, 0.043839978235419956, 0.03634688844871845, 0.1884446370341249, 0.03103465090621345, 0.737003061160168, 0.007269377689743691, 0.5900051379290916, 0.05721651569129845, 0.06348461712939013, 0.2634209809495454, 0.025876008500840028, 0.21056080956877976, 0.2453447526036223, 0.16458376509559686, 0.3406115980294969, 0.038899791994232255, 0.0017436806402179753, 0.00012758638830863233, 0.0004678167571316519, 0.004720696367419397, 0.9929623314099826, 0.0021379864680459134, 0.0009502162080204061, 0.001425324312030609, 0.006651513456142842, 0.9889375184972375, 0.011514291641004303, 0.015352388854672404, 0.019190486068340503, 0.951848108989689, 0.003838097213668101, 0.9917635268980349, 0.9601036076435739, 0.008758364653185276, 0.010440611522547083, 0.004913228951786862, 0.02365826549610413, 0.9522318350525615, 0.009494542639335385, 0.01898908527867077, 0.958948806572874, 0.009494542639335385, 0.9630659767170379, 0.0028834310680150833, 0.028834310680150833, 0.0057668621360301665, 0.9818355439395399, 0.01818213970258407, 0.8497801905436068, 0.01589019868496175, 0.0317803973699235, 0.08843241007283062, 0.015199320481267764, 0.9816927914168179, 0.8190888189403233, 0.03866432333414743, 0.11301879128443094, 0.014276057846454436, 0.014870893590056704, 0.986973165496675, 0.013905118937472967, 0.013905118937472967, 0.017381398671841207, 0.9490243674825299, 0.006952559468736483, 0.738348910095917, 0.11011897753982891, 0.030541113742521355, 0.10545621208295541, 0.01554255152291163, 0.22143703708213078, 0.16204902336772922, 0.2613714636014365, 0.2909049623134632, 0.0642032580696233, 0.002590437577382947, 0.0009142720861351578, 0.0008228448775216419, 0.004815166320311831, 0.9908576112170795, 0.003009215769209329, 0.0015046078846046645, 0.0045138236538139935, 0.9915365959544739, 0.001945452649018335, 0.00048636316225458376, 0.004377268460291254, 0.9931535773238601, 0.03548674789227851, 0.03240094372773255, 0.8887115993892356, 0.038572552056824465, 0.004628706246818936, 0.001905555612601794, 0.0004763889031504485, 0.003811111225203588, 0.9937472519718356, 0.03302152989189303, 0.805669360667458, 0.010634051999084196, 0.13628377167247377, 0.014272017156665632, 0.02254840906206318, 0.02004303027738949, 0.02004303027738949, 0.9320009078986113, 0.005010757569347372, 0.007116609516107414, 0.9820921132228232, 0.007116609516107414, 0.08291439181748418, 0.12978866132496858, 0.054170735987422995, 0.7243401269175418, 0.008733649271441667, 0.026183867562351793, 0.9688030998070163, 0.01604076588240212, 0.00802038294120106, 0.00802038294120106, 0.954425570002926, 0.00802038294120106, 0.018130338739630315, 0.018130338739630315, 0.018130338739630315, 0.9609079532004067, 0.021966561328000667, 0.021966561328000667, 0.021966561328000667, 0.9665286984320294, 0.009066744631896573, 0.01360011694784486, 0.01360011694784486, 0.9565415586650885, 0.0045333723159482866, 0.015894578383409446, 0.012715662706727558, 0.022252409736773227, 0.9441379559745212, 0.006357831353363779, 0.0007383052430412745, 0.990067330918349, 0.008859662916495294, 0.9895391401176395, 0.05839732203478632, 0.015348014124527175, 0.9090890805222986, 0.016096697740357768, 0.0009358545197882424, 0.09035727986399286, 0.23508539046865676, 0.29610589115602853, 0.3468780769843674, 0.03152725868847543, 0.9886578235397738, 0.7515824923474113, 0.1020444212046076, 0.08449422819601374, 0.04903198252916429, 0.012846017562991382, 0.07062288184187415, 0.04835440558542735, 0.08175711997009755, 0.7758973369924822, 0.02354096061395805, 0.00711640773764311, 0.9820642677947492, 0.00711640773764311, 0.9893365737451086, 0.005347765263487073, 0.008406533613726211, 0.9533009117965523, 0.025219600841178632, 0.008406533613726211, 0.005043920168235727, 0.9592564064266649, 0.010132990208732375, 0.010132990208732375, 0.013510653611643168, 0.006755326805821584, 0.048305896939450685, 0.7585460648115722, 0.04256658245159516, 0.13009112839139195, 0.020087600707494345, 0.07308490593124063, 0.080818758410737, 0.14384965611863237, 0.6921797969149246, 0.009667315599370455, 0.03617739388562164, 0.7192331426618541, 0.08430328483438437, 0.15201143485885057, 0.008297567404959091, 0.0024656557261112937, 0.004931311452222587, 0.9887279461706288, 0.0024656557261112937, 0.0024656557261112937, 0.022899909249428335, 0.011449954624714168, 0.013358280395499862, 0.9446212565389188, 0.005724977312357084, 0.009711639769960768, 0.009711639769960768, 0.009711639769960768, 0.9614523372261161, 0.009711639769960768, 0.0012172610617563258, 0.9981540706401872, 0.10998309673228847, 0.21498127257260774, 0.225318424317007, 0.29673397520090233, 0.15295836210621225, 0.10439523913806989, 0.3030702059761529, 0.1643770608684219, 0.4080186371459915, 0.02015199544300365, 0.0027991890930024513, 0.00046653151550040854, 0.0018661260620016341, 0.00653144121700572, 0.9881137498298653, 0.007116279491352656, 0.9820465698066665, 0.007116279491352656, 0.9765500156737922, 0.009300476339750402, 0.009300476339750402, 0.004650238169875201, 0.04557405585182727, 0.08978089002809972, 0.6439614091863194, 0.20052584574804, 0.02050832513332227, 0.0014298612186377782, 0.00047662040621259267, 0.0042895836559133345, 0.9937535469532558, 0.9752813885726699, 0.9893834675283439, 0.9898510247069592, 0.14586799984829066, 0.0644379061357048, 0.7055068010816721, 0.07591314969411798, 0.008385754908071173, 0.12388919445236266, 0.05593659281293966, 0.009198461929238967, 0.060577258290753916, 0.7504619029836764, 0.05803506124724736, 0.24114134450998334, 0.1197838628563034, 0.28425849955810095, 0.2967845051852184, 0.9820244360760513, 0.0036237064061846913, 0.007247412812369383, 0.0036237064061846913, 0.0036237064061846913, 0.34670114007357095, 0.11786975247831241, 0.2924436349645065, 0.18522389675163378, 0.05785548290144272, 0.03142222547858555, 0.021753848408251536, 0.916078727414148, 0.026588036943418544, 0.004834188535167008, 0.9810819395786369, 0.011358524982236455, 0.011358524982236455, 0.015144699976315273, 0.9616884484960199, 0.003786174994078818, 0.0016097779689810343, 0.0002299682812830049, 0.0004599365625660098, 0.004829333906943103, 0.9927730702987322, 0.03462708430189489, 0.022035417283024022, 0.9286354426417266, 0.006295833509435435, 0.009443750264153151, 0.9672743440051633, 0.00858527524264938, 0.00858527524264938, 0.00858527524264938, 0.005723516828432919, 0.1369721898876424, 0.34559933085909395, 0.11944647531750496, 0.1776499554397326, 0.22033250752936623, 0.014140933331270018, 0.9205747598656782, 0.012726839998143016, 0.04666507999319106, 0.007070466665635009, 0.014167449486134602, 0.9334948035039897, 0.005916077807396866, 0.04047842710324172, 0.005916077807396866, 0.030792041417768368, 0.7481561980400093, 0.17198870802256114, 0.039194705569767334, 0.009891743875138026, 0.01415557844128362, 0.9119338200284713, 0.011009894343220594, 0.054105766486684054, 0.008493347064770172, 0.07583467210817073, 0.7827680561673894, 0.07969067238485737, 0.05269867044805084, 0.00899733397893551, 0.0013330395135027883, 0.0004443465045009294, 0.003999118540508365, 0.99444747707308, 0.9779483238145124, 0.014381592997272239, 0.10045522842105194, 0.23576712885685613, 0.14473170350710798, 0.34203747036524723, 0.17696987430709352, 0.8265304342115457, 0.0132576310249471, 0.07788858227156421, 0.029829669806130974, 0.052201922160729206, 0.9526072600054463, 0.044770053995034025, 0.6588843422707428, 0.06762680346987354, 0.08543448839610983, 0.15327328811510524, 0.03476738485598514, 0.9894379332386488, 0.009135144473410529, 0.0186431519865521, 0.8109771114150164, 0.15753463428636524, 0.00372863039731042, 0.4065500532330011, 0.044384465916741875, 0.08585529074485737, 0.1558797982415114, 0.30738913485008323, 0.01910296089992206, 0.00955148044996103, 0.00955148044996103, 0.955148044996103, 0.00955148044996103, 0.009626384677000914, 0.019252769354001827, 0.009626384677000914, 0.9626384677000913, 0.7617723326741033, 0.06995120939459314, 0.041018510220913254, 0.10034885536187706, 0.026735278983273814, 0.8801189441689781, 0.029557684382166296, 0.054837282866913785, 0.021001512587328686, 0.014778842191083148, 0.004709001028411087, 0.00023545005142055434, 0.003531750771308315, 0.006828051491196076, 0.9846521150407582, 0.9832797740917018, 0.008779283697247337, 0.013382725101624731, 0.013382725101624731, 0.02141236016259957, 0.9394673021340562, 0.010706180081299786, 0.0168605307621122, 0.014451883510381885, 0.019269178013842512, 0.9417810754265528, 0.007225941755190942, 0.09430543710616049, 0.12000588791770041, 0.06940812538248119, 0.14946841129869273, 0.5668048436380574, 0.010055601481475477, 0.010055601481475477, 0.010055601481475477, 0.9552821407401704, 0.021365784309611287, 0.021365784309611287, 0.021365784309611287, 0.961460293932508, 0.020365891106992252, 0.020365891106992252, 0.9571968820286358, 0.9583510048837675, 0.014297585731098877, 0.007148792865549439, 0.014297585731098877, 0.9507894511180754, 0.007148792865549439, 0.011164904413351988, 0.011164904413351988, 0.011164904413351988, 0.9601817795482709, 0.011164904413351988, 0.026356928883445953, 0.022195308533428174, 0.8226136225201817, 0.12623581728387273, 0.0013872067833392608, 0.9920726445701907, 0.004049276100286493, 0.004049276100286493, 0.9959624536816464, 0.002817432683682168, 0.06414082167942602, 0.04076387757973439, 0.029525981549950658, 0.06276258914747142, 0.8028204498635596, 0.01450909934759996, 0.037126224801211666, 0.015362575779811724, 0.9294358346786092, 0.0029871675127411683, 0.9558203667139763, 0.004205206088581069, 0.9924286369051323, 0.004205206088581069, 0.009816183152721017, 0.019632366305442035, 0.009816183152721017, 0.9521697658139388, 0.9847751318542762, 0.028343527689034236, 0.07153366511994355, 0.03239260307318199, 0.8624530568234704, 0.004049075384147748, 0.8563237456631146, 0.057061270386814356, 0.04411119483803379, 0.02630484095846052, 0.016187594435975703, 0.09609890981760133, 0.2748851233573805, 0.049316693280021785, 0.5552616129900525, 0.024499941843608253, 0.05074935924626141, 0.233963147711578, 0.041287614302043175, 0.6603151092889267, 0.014049257644445248, 0.16671880567582548, 0.1006349126938109, 0.06184947857144242, 0.6531358993498497, 0.017658409031322236, 0.9788242808046624, 0.004237334548937933, 0.004237334548937933, 0.004237334548937933, 0.008474669097875866, 0.9951416341467031, 0.8946056274369588, 0.03689940718117612, 0.05001919640114985, 0.009839841914980298, 0.00901985508873194, 0.8187168435627277, 0.09294281362648661, 0.03462575409614207, 0.028702927737591453, 0.025513713544525737, 0.8113496866495631, 0.0372047475359588, 0.08251822209898554, 0.030526972337196964, 0.037681731478727505, 0.05609380400609883, 0.025242211802744472, 0.05702870073953381, 0.8404721633580474, 0.02150262486900455, 0.010552302311060257, 0.9243816824488784, 0.010552302311060257, 0.046430130168665124, 0.009145328669585555, 0.19856034083802182, 0.04210337644120689, 0.1498144414145857, 0.0662208444997623, 0.543358379946352, 0.003590242417805539, 0.009175063956614155, 0.8867898771979681, 0.09933004022595325, 0.0011967474726018463, 0.9868502361270836, 0.007650001830442508, 0.1048467027135586, 0.16444542676913418, 0.31893159307108665, 0.38268654393580104, 0.029093587663971757, 0.9898203737677834, 0.12947743552263083, 0.06824614140494958, 0.5112515819534551, 0.25562579097672755, 0.03543092358654177, 0.9932193277085853, 0.0037339072470247573, 0.10110610323327142, 0.18282199488755926, 0.2720785243781185, 0.4222757188311975, 0.021698570100291126, 0.017840442042803266, 0.01070426522568196, 0.01070426522568196, 0.9562476934942551, 0.0035680884085606533, 0.007064303026773646, 0.9819381207215369, 0.007064303026773646, 0.4050161859849102, 0.04503181965587171, 0.11537152195834333, 0.4213177047003357, 0.013239354978826282, 0.007115967812944102, 0.982003558186286, 0.007115967812944102, 0.01013179083861888, 0.9827837113460315, 0.9894754502080233, 0.0324756239767895, 0.01397207078071176, 0.004720294182672892, 0.012083953107642605, 0.9366951776096087, 0.9840252612656996, 0.012456015965388601, 0.06865210814106429, 0.020122169627553328, 0.8764980358354846, 0.02899959740441509, 0.005326456666117057, 0.01331784098336731, 0.03874281013343218, 0.74257052755745, 0.20017118568939957, 0.00524642220556894, 0.08641149684761117, 0.3577495495206497, 0.13006368813687513, 0.4036835599000343, 0.02212372422160424, 0.05180920962576953, 0.07549341974040703, 0.5713815690156296, 0.291241771253433, 0.010176809033633301, 0.030296613824991735, 0.12118645529996694, 0.05773505653441821, 0.7819956172186546, 0.008002879123582723, 0.014023729902093983, 0.00654440728764386, 0.9321105808258469, 0.04020135905266942, 0.00654440728764386, 0.004164840001626364, 0.022906620008945007, 0.018741780007318642, 0.9516659403716243, 0.002082420000813182, 0.12102438743624433, 0.27329823195674463, 0.18037766089163912, 0.39957915058464527, 0.02570319582691783, 0.09312640908478263, 0.040251568121044155, 0.6654608362733572, 0.16291167215854557, 0.0383461684466752, 0.2613967096022971, 0.04555879098508982, 0.010445800142990206, 0.042915877695899524, 0.6397108689978219, 0.01277359569014763, 0.9868785410980725, 0.00047309613667213444, 0.004266540760643211, 0.0021332703803216054, 0.9919707268495466, 0.13097223372647643, 0.19743277201576057, 0.14731253148632298, 0.2553483839535653, 0.2688903432591262, 0.0161932786904938, 0.057833138180334996, 0.9253302108853599, 0.6941207969491091, 0.14018613432426996, 0.04708541916235022, 0.10273182362694594, 0.015857279593931996, 0.007116515198474903, 0.9820790973895366, 0.007116515198474903, 0.9799306786656886, 0.009898289683491804, 0.27746587825070257, 0.21256612205004194, 0.11436904805981492, 0.2596343347896941, 0.13597876013533414, 0.005780173885174671, 0.02601078248328602, 0.02023060859811135, 0.947948517168646, 0.0028900869425873355, 0.053613723473043905, 0.03386631998742097, 0.018602626471963632, 0.06563388211646655, 0.8282461693825038, 0.9885938098119843, 0.006379807204483686, 0.9399582614605965, 0.006379807204483686, 0.03615224082540756, 0.010633012007472811, 0.7533218407613173, 0.08622011381642403, 0.08679619475506382, 0.057608093863980414, 0.016034252792141216, 0.10220056524376493, 0.2853937072370609, 0.1400458550567512, 0.4504869280154504, 0.021939298442310896, 0.9786610047688754, 0.006354941589408282, 0.006354941589408282, 0.006354941589408282, 0.006354941589408282, 0.10849191911490985, 0.22344513474599656, 0.11524252741539313, 0.06991701454071968, 0.48286136800742546, 0.9734423979698005, 0.009336383938600812, 0.0008685008314977499, 0.003256878118116562, 0.007599382275605312, 0.9788004370979642, 0.08842195972628444, 0.1706388696472156, 0.5901445582734223, 0.1460402793474222, 0.004653787354014971, 0.08111586386968754, 0.05878378767110572, 0.7639731228579364, 0.09192170719158198, 0.004250298373278477, 0.006825807283102761, 0.0034129036415513807, 0.9829162487667976, 0.006825807283102761, 0.007116761458878808, 0.9821130813252755, 0.007116761458878808, 0.0071170017609000075, 0.982146243004201, 0.0071170017609000075, 0.016117136578412527, 0.02089258445349772, 0.06625933926680706, 0.8924118216565455, 0.004775447875085194, 0.14620646628105785, 0.28317770957264016, 0.13879681062671118, 0.409088162539618, 0.02271220537528001, 0.15269560073977229, 0.030851540814429694, 0.8009684836758899, 0.01210630082591545, 0.003514732497846421, 0.30412102100468585, 0.19475699087128429, 0.2095402100608284, 0.20388125733880935, 0.08771376719129503, 0.9962302336932225, 0.014752948302638508, 0.014752948302638508, 0.014752948302638508, 0.958941639671503, 0.007937013232676138, 0.015874026465352277, 0.007937013232676138, 0.9683156143864888, 0.02623115490845289, 0.006557788727113222, 0.9574371541585305, 0.006557788727113222, 0.003278894363556611, 0.0070748549840377005, 0.01061228247605655, 0.9657177053211461, 0.0070748549840377005, 0.01061228247605655, 0.986802762424159, 0.00922245572359027, 0.990947984878025, 0.012541701194028664, 0.01379587131343153, 0.026337572507460192, 0.9431359297909555, 0.005016680477611465, 0.9959416715308078, 0.9851376975738994, 0.004087708288688379, 0.004087708288688379, 0.9935239180423712, 0.14921684677105077, 0.3465986250947825, 0.11767353865615776, 0.16593291125109888, 0.2205198336774706, 0.01600332147843277, 0.030673032833662812, 0.02000415184804096, 0.9295262558723034, 0.0040008303696081925, 0.12922034604638008, 0.20801518909012207, 0.2877956336188601, 0.2800972868847014, 0.09488412133935392, 0.03053843278387438, 0.06398528773764156, 0.03053843278387438, 0.8725266509678394, 0.004362633254839197, 0.07518743818812132, 0.7400934738271148, 0.04703948287315033, 0.10960451957473757, 0.028105880643349214, 0.004244021398145453, 0.993101007166036, 0.004244021398145453, 0.002107367104880808, 0.9946772735037416, 0.002107367104880808, 0.002107367104880808, 0.9771342967444785, 0.012857030220322085, 0.9536664748475164, 0.006132903375225186, 0.02759806518851334, 0.006132903375225186, 0.003066451687612593, 0.004146616380400271, 0.0004607351533778079, 0.011518378834445196, 0.006911027300667118, 0.9772192603143305, 0.11519918849767408, 0.18570215605398732, 0.08819522167893523, 0.5722712574099237, 0.0385770954553412, 0.9873840130365492, 0.004447329774774795, 0.001482443258258265, 0.9932369830330376, 0.001482443258258265, 0.05725515598098364, 0.7888942563379817, 0.02821861259062765, 0.0997875575668572, 0.026173785591306807, 0.032405362998418466, 0.8359570985998263, 0.03139269540471789, 0.08557041166769876, 0.014683680108658366, 0.0014363370830591884, 0.0004787790276863962, 0.0038302322214911694, 0.9939452614769585, 0.1282005004335874, 0.0922794199284185, 0.20260597866415905, 0.27496773100292266, 0.30195184065916814, 0.05081433942257407, 0.18875184590477426, 0.07153649911617697, 0.46453676252268067, 0.22424980642338097, 0.9382734983565405, 0.01625721408043511, 0.01625721408043511, 0.020902132389130853, 0.006967377463043618, 0.02313818025460098, 0.1309021123663074, 0.03706393688931453, 0.7903402496224353, 0.01863908964953968, 0.9904269009056401, 0.15174712962392733, 0.0800188976961041, 0.09259462667046271, 0.11755977752326353, 0.5579897522696898, 0.10014164416436092, 0.7284541761097278, 0.08613291000840462, 0.07559168430689293, 0.009709023672444965, 0.016236144095066275, 0.8895697896296838, 0.045290296686237505, 0.04016309328779552, 0.0076908050976629725, 0.05818244756865925, 0.6865528813101791, 0.15409533083335814, 0.08392377285661153, 0.01692580292906451, 0.01395991320103742, 0.9222849321485388, 0.012098591440899097, 0.04467172224331974, 0.00744528704055329, 0.12814106501786315, 0.035998391976667744, 0.030053703393364814, 0.07051061180750975, 0.7354900819453125, 0.001843897138827817, 0.00046097428470695426, 0.00046097428470695426, 0.004609742847069543, 0.9929386092587795, 0.9858492408379483, 0.09816052180773485, 0.1001652589416638, 0.04159829552902549, 0.13546295204976977, 0.624618812728431, 0.01789200357533312, 0.014313602860266497, 0.021470404290399744, 0.9446977887775888, 0.003578400715066624, 0.5142973533727644, 0.04916443721738672, 0.36630617400194715, 0.060366460887171035, 0.009708420513813074, 0.9703828642111471, 0.017896405282582628, 0.0059654684275275436, 0.0039769789516850285, 0.0019884894758425142, 0.006853518442478883, 0.014812443085357585, 0.0035372998412794236, 0.04731138537711229, 0.9276568833755288, 0.0009077403735531455, 0.006354182614872019, 0.0009077403735531455, 0.9921602282935881, 0.9898312945625899, 0.048483965915494025, 0.25514051028993107, 0.152139341321033, 0.5262727334755274, 0.01795433220558774, 0.8214311759707109, 0.03784852070707379, 0.08318789447075595, 0.04257958579545802, 0.01517883382523272, 0.0037346733403120767, 0.004201507507851087, 0.0051351758429291055, 0.0070025125130851445, 0.9803517518319201, 0.007116483984888019, 0.9820747899145467, 0.007116483984888019, 0.019639224861443025, 0.003927844972288605, 0.9505384832938424, 0.024876351491161165, 0.4912749437469061, 0.05592938708329182, 0.07913153456326005, 0.2629169659177452, 0.11075972507542726, 0.0013345294159028075, 0.00044484313863426915, 0.00044484313863426915, 0.004893274524976961, 0.993334728570323, 0.016213098284198296, 0.828397550068094, 0.022637156094918374, 0.11808030071133098, 0.01437765319542113, 0.9827009534812553, 0.013840858499735991, 0.9824020096799004, 0.005547822563930412, 0.9470133116629214, 0.010818253999664304, 0.03106780635801031, 0.005270431435733892, 0.01026999783066138, 0.952542298793843, 0.00513499891533069, 0.02567499457665345, 0.00513499891533069, 0.9929103933031055, 0.0035716201197953435, 0.0035716201197953435, 0.8137032593586843, 0.03678977502419583, 0.038593195368519156, 0.08512144025206095, 0.025608568889391215, 0.4814452219106507, 0.050131203207048086, 0.14941883622545166, 0.12152174999634434, 0.19750765707962, 0.011489809139391363, 0.025852070563630567, 0.020107165993934886, 0.9392918971452439, 0.005744904569695682, 0.007091711243468985, 0.021275133730406955, 0.01418342248693797, 0.957381017868313, 0.2590393223178218, 0.10255342255800201, 0.28355408468228444, 0.2674560573962873, 0.08735426989203518, 0.001437253883059534, 0.0004790846276865113, 0.0038326770214920903, 0.9941006024495109, 0.012423469745257343, 0.024846939490514686, 0.012423469745257343, 0.9566071703848154, 0.11471452624856392, 0.06576966171584331, 0.7395263125490753, 0.06959347925746211, 0.010324307362370753, 0.7561208453099857, 0.06939458805467162, 0.04870551832408629, 0.0809244342066124, 0.04493407332111501, 0.15817017493939078, 0.12979944040289373, 0.25127413475634586, 0.4338857640968972, 0.026905579231795314, 0.05323559313887024, 0.02661779656943512, 0.06139265982950358, 0.8491935744248816, 0.009445024589154397, 0.01953104691022545, 0.027573242696788867, 0.01608439157312684, 0.9340435963537229, 0.0034466553370986084, 0.014746493687604301, 0.022119740531406452, 0.011059870265703226, 0.9474622194285763, 0.0036866234219010753, 0.35488184372864856, 0.07712765403702629, 0.5174177281563695, 0.035488184372864856, 0.014905037436603239, 0.1891397710770995, 0.070688299399074, 0.05747720919425764, 0.07083774612084795, 0.6118647682868685, 0.0014372423463131763, 0.0004790807821043921, 0.003832646256835137, 0.9940926228666137, 0.01235655254596564, 0.01235655254596564, 0.008237701697310428, 0.9596922477366648, 0.004118850848655214, 0.017622237457777662, 0.011748158305185108, 0.017622237457777662, 0.9516008227199937, 0.005874079152592554, 0.9016324289563141, 0.06352758200625983, 0.011480888314384307, 0.019900206411599463, 0.0038269627714614353, 0.992402341279801, 0.058352006496911434, 0.4739850127734835, 0.03239925694066606, 0.40135065801970893, 0.0338997371077295, 0.9862989288450321, 0.009393323131857449, 0.7882957615519155, 0.03664223847439975, 0.11062333592651483, 0.051967889547342605, 0.012399844959017406, 0.007945542260179732, 0.8764419574749276, 0.007945542260179732, 0.0971302002826053, 0.01054000503901393, 0.005042605818861407, 0.005042605818861407, 0.9681803172213901, 0.020170423275445628, 0.4875805589049083, 0.22447826515857347, 0.04066358125246163, 0.2313617554019369, 0.01593400519297086, 0.9682587704562685, 0.0027526901789801522, 0.019957003797606104, 0.004817207813215266, 0.004129035268470228, 0.5109818737926677, 0.06720682269365132, 0.24341471094356837, 0.15699093738595113, 0.021527185394060188, 0.06573281752159242, 0.049713895604565704, 0.6915755255212918, 0.14582742710672605, 0.04750438913325167, 0.03928107735565009, 0.04216939186709495, 0.7284329197863936, 0.18542979163476, 0.004621303218311775, 0.018282142008721462, 0.8912544229251712, 0.022852677510901826, 0.06024796798328663, 0.007479058094476961, 0.14287889376311005, 0.6521139253803484, 0.1268155861802752, 0.05974423171159631, 0.01859961930644036, 0.9842342534685367, 0.007571032718988744, 0.98305219355861, 0.010031144832230714, 0.4113838784722202, 0.14979293382244296, 0.09655903991382843, 0.25564569590773684, 0.08665029201042777, 0.8515285332410056, 0.037518391640840656, 0.048634952127015664, 0.035850907567914404, 0.026401831154665645, 0.18254726964866158, 0.035860548761664106, 0.5563507993595317, 0.1946715504204623, 0.030566848706370834, 0.9843965602139803, 0.004188921532825448, 0.008377843065650896, 0.9812100562345579, 0.9700116346309483, 0.007822674472830228, 0.015645348945660456, 0.007822674472830228, 0.4940208925169845, 0.1545810091479721, 0.10377285379743886, 0.23238908406508754, 0.015182063398461546, 0.03969211881161202, 0.035762206057987064, 0.014933668463774818, 0.1027672185072925, 0.8070075839568839, 0.12249493793588137, 0.2274814033974802, 0.23069987260231153, 0.3786207172563606, 0.04068145074906833, 0.06124954894552807, 0.014134511295121862, 0.9022529710052789, 0.021201766942682793, 0.0023557518825203104, 0.6771334997270433, 0.13566059752735235, 0.06227523119251305, 0.09677512452921042, 0.028067709833245316, 0.08625295191247592, 0.07707710596434018, 0.06955291228686888, 0.749483097043727, 0.017801141139383327, 0.016458732218515057, 0.016458732218515057, 0.01905747941091217, 0.944644604436351, 0.0034649962565294857, 0.014971143730740188, 0.026300657905354383, 0.012138765187086639, 0.9431820550366318, 0.0036416295561259916, 0.15187380620305008, 0.23352001631672756, 0.2257828133712969, 0.3582200170138498, 0.03060562939301399, 0.04525087947659753, 0.5962109120227377, 0.13595647122022772, 0.2140244299568802, 0.008357144407840085, 0.0070746866837074745, 0.983381449035339, 0.0070746866837074745, 0.02003033980586365, 0.976479065535853, 0.005007584951465913, 0.007116969714227053, 0.9821418205633333, 0.007116969714227053, 0.9402252711596887, 0.014048939427115258, 0.015453833369826784, 0.01650750382686043, 0.014048939427115258, 0.009964700564628235, 0.01992940112925647, 0.9615936044866246, 0.006643133709752156, 0.001660783427438039, 0.0638262294942019, 0.03138011909370469, 0.142576337283499, 0.16849325092989206, 0.5937571578834314, 0.9836827838561637, 0.008942570762328761, 0.02156803234671131, 0.02156803234671131, 0.9489934232552977, 0.1310282251106028, 0.1600114269783859, 0.6352151742689132, 0.04085826374416647, 0.03280737433644894, 0.23470477115880237, 0.20354594837220513, 0.2663891644502338, 0.2542259613383573, 0.04114466237844648, 0.9879141045018608, 0.006707226102701677, 0.9742245914174186, 0.016768065256754193, 0.0016768065256754193, 0.009985662964240565, 0.014978494446360848, 0.009985662964240565, 0.9636164760492145, 0.004992831482120283, 0.007116745974706208, 0.9821109445094567, 0.007116745974706208, 0.058179737402338026, 0.02800094313481509, 0.02271187609823891, 0.8842075598793833, 0.006844674988510355, 0.49928069118056595, 0.08142625555485396, 0.06739025218833203, 0.2836841922649837, 0.06817487349453512, 0.004471099913953869, 0.00040646362854126084, 0.002032318142706304, 0.008129272570825217, 0.984861371955475, 0.9680272362761229, 0.006630323536137828, 0.019890970608413484, 0.01615440609610293, 0.020193007620128663, 0.041732215748265904, 0.9181087464618498, 0.004038601524025733, 0.15710146850109927, 0.46981617371169476, 0.13952173046278799, 0.1381265131581601, 0.09552587812352217, 0.9231512177941474, 0.010293352780568546, 0.054175540950360764, 0.00920984196156133, 0.0032505324570216458, 0.012172860234947664, 0.979915248913287, 0.006086430117473832, 0.010091151809810786, 0.9000046020374994, 0.02648927350075331, 0.056132031942072495, 0.006937666869244915, 0.006996670050339604, 0.9225609223519221, 0.007996194343245262, 0.05297478752399986, 0.00899571863615092, 0.012374170582966245, 0.03464767763230549, 0.021654798520190928, 0.92744408519332, 0.004330959704038186, 0.11359439248246678, 0.22397687942820027, 0.22376275239241805, 0.4118198215681512, 0.026819411231722833, 0.9879168303540069, 0.008031844149219569, 0.09716648575497844, 0.25283905179213223, 0.11452071221165894, 0.4834268924343622, 0.0520626793700415, 0.09616099793294366, 0.2967531639414619, 0.08480978401168557, 0.5046425388993604, 0.017594381577950065, 0.16924362821302508, 0.2584035206785619, 0.16870973664137515, 0.38155450987247713, 0.022126839580602298, 0.024664899152600023, 0.08221633050866674, 0.015415561970375014, 0.8694376951291508, 0.008221633050866674, 0.030394332431793517, 0.8738370574140636, 0.01350859219190823, 0.06585438693555262, 0.01688574023988529, 0.9825902871072187, 0.005329441686504239, 0.9859467120032842, 0.005329441686504239, 0.005329441686504239, 0.2707443889872916, 0.1403609730660079, 0.25994162034939466, 0.2884489264771782, 0.04043536316546139, 0.2150494787335142, 0.15956913859032845, 0.2977647035189378, 0.25294588593514383, 0.0746811864586781, 0.9709273408363353, 0.026162712777027, 0.9822129390618011, 0.00846735292294656, 0.9895381346613846, 0.9473842184891718, 0.0028141063744990228, 0.0028141063744990228, 0.9933795501981549, 0.9913804259422082, 0.0033714893866483822, 0.0014750266066586673, 0.0016857446933241911, 0.006321542599965716, 0.9867927998546484, 0.9887411360835326, 0.007024803808763998, 0.003512401904381999, 0.3794637774508782, 0.09739937832729752, 0.32989773263094896, 0.14076966754473566, 0.05240139060412017, 0.006911406697791741, 0.9814197510864272, 0.006911406697791741, 0.02977403012481744, 0.5427705970122222, 0.0793499271747527, 0.3376289540469729, 0.01039954162254389, 0.9796158335209924], \"Term\": [\"abouthttps\", \"abouthttps\", \"abouthttps\", \"abouthttps\", \"abusive\", \"abusive\", \"abusive\", \"abusive\", \"abusive\", \"access\", \"access\", \"access\", \"access\", \"access\", \"act\", \"act\", \"act\", \"act\", \"act\", \"activeduty\", \"activeduty\", \"activeduty\", \"activeduty\", \"activeduty\", \"affiliate\", \"affiliate\", \"affiliate\", \"affiliate\", \"affiliate\", \"africa\", \"africa\", \"africa\", \"africa\", \"africa\", \"agency\", \"agency\", \"agency\", \"agency\", \"agency\", \"agreehere\", \"alabama\", \"alabama\", \"alabama\", \"alabama\", \"alabama\", \"also\", \"also\", \"also\", \"also\", \"also\", \"altar\", \"altar\", \"altar\", \"altar\", \"altaro\", \"amaging\", \"amaging\", \"amaging\", \"amaging\", \"amaging\", \"amdgpu\", \"amdgpu\", \"amdgpu\", \"amdgpu\", \"amdgpuspecific\", \"ameritrade\", \"ameritrade\", \"amos\", \"amos\", \"amos\", \"amos\", \"amos\", \"anchor\", \"anchor\", \"anchor\", \"anchor\", \"anchor\", \"andriana\", \"anime\", \"anime\", \"anime\", \"anime\", \"anime\", \"apple\", \"apple\", \"apple\", \"apple\", \"apple\", \"arte\", \"article\", \"article\", \"article\", \"article\", \"article\", \"asesoramiento\", \"asore\", \"asore\", \"attacker\", \"attacker\", \"attacker\", \"attacker\", \"attacker\", \"azizkpln\", \"baccarat\", \"baccarat\", \"baccarat\", \"baccarat\", \"baccarat\", \"back\", \"back\", \"back\", \"back\", \"back\", \"backlink\", \"backlink\", \"backlink\", \"backlink\", \"backlink\", \"backlinks\", \"backlinks\", \"backlinks\", \"backlinks\", \"backlinks\", \"banker\", \"banker\", \"banker\", \"banker\", \"banker\", \"bankruptcy\", \"bankruptcy\", \"bankruptcy\", \"bankruptcy\", \"bankruptcy\", \"baseboard\", \"baud\", \"baud\", \"baud\", \"baud\", \"baud\", \"beonrepeatcom\", \"beonrepeatcom\", \"beonrepeatcom\", \"best\", \"best\", \"best\", \"best\", \"best\", \"bet\", \"bet\", \"bet\", \"bet\", \"bet\", \"betting\", \"betting\", \"betting\", \"betting\", \"betting\", \"beyonc\", \"beyonc\", \"bible\", \"bible\", \"bible\", \"bible\", \"bible\", \"bill\", \"bill\", \"bill\", \"bill\", \"bill\", \"binary\", \"binary\", \"binary\", \"binary\", \"binary\", \"birdsong\", \"birdsong\", \"birdsong\", \"birdsong\", \"birdsong\", \"bitcoin\", \"bitcoin\", \"bitcoin\", \"bitcoin\", \"bitcoin\", \"blackjack\", \"blackjack\", \"blackjack\", \"blackjack\", \"blackjack\", \"blasios\", \"blasios\", \"blasios\", \"bmc\", \"bonus\", \"bonus\", \"bonus\", \"bonus\", \"bonus\", \"book\", \"book\", \"book\", \"book\", \"book\", \"bootloader\", \"bootloader\", \"bootloader\", \"bootloader\", \"bootloader\", \"boycotting\", \"boycotting\", \"boycotting\", \"brand\", \"brand\", \"brand\", \"brand\", \"brand\", \"brandbucket\", \"brandbucket\", \"brandbucket\", \"brandbucket\", \"brandbucketonce\", \"brandbucketonce\", \"brandbucketonce\", \"brunopress\", \"brunopress\", \"bsc\", \"bsc\", \"business\", \"business\", \"business\", \"business\", \"business\", \"caldas\", \"calibration\", \"calibration\", \"calibration\", \"calibration\", \"calibration\", \"canada\", \"canada\", \"canada\", \"canada\", \"canada\", \"capacitance\", \"capacitance\", \"capacitance\", \"capacitance\", \"capacitance\", \"captain\", \"captain\", \"captain\", \"captain\", \"captain\", \"card\", \"card\", \"card\", \"card\", \"card\", \"caseyour\", \"caseyour\", \"caseyour\", \"casino\", \"casino\", \"casino\", \"casino\", \"casino\", \"character\", \"character\", \"character\", \"character\", \"character\", \"check\", \"check\", \"check\", \"check\", \"check\", \"checkbox\", \"checkbox\", \"checkbox\", \"checkbox\", \"checkbox\", \"chialo\", \"christ\", \"christ\", \"christ\", \"christ\", \"christ\", \"civil\", \"civil\", \"civil\", \"civil\", \"civil\", \"classclearboth\", \"classclearboth\", \"click\", \"click\", \"click\", \"click\", \"click\", \"clickwrap\", \"clickwrap\", \"clickwrap\", \"clickwrap\", \"clickwrap\", \"cloud\", \"cloud\", \"cloud\", \"cloud\", \"cloud\", \"cloudline\", \"cloudline\", \"clumio\", \"collect\", \"collect\", \"collect\", \"collect\", \"collect\", \"collection\", \"collection\", \"collection\", \"collection\", \"collection\", \"collector\", \"collector\", \"collector\", \"collector\", \"collector\", \"colleen\", \"colleen\", \"colleen\", \"colleen\", \"colleen\", \"colonia\", \"com\", \"com\", \"com\", \"com\", \"com\", \"come\", \"come\", \"come\", \"come\", \"come\", \"commission\", \"commission\", \"commission\", \"commission\", \"commission\", \"company\", \"company\", \"company\", \"company\", \"company\", \"componentscore\", \"consolidation\", \"consolidation\", \"consolidation\", \"consolidation\", \"consolidation\", \"consumer\", \"consumer\", \"consumer\", \"consumer\", \"consumer\", \"consumidor\", \"content\", \"content\", \"content\", \"content\", \"content\", \"context\", \"context\", \"context\", \"context\", \"context\", \"cooky\", \"cooky\", \"cooky\", \"cooky\", \"cooky\", \"coronavirus\", \"coronavirus\", \"coronavirus\", \"coronavirus\", \"coronavirus\", \"could\", \"could\", \"could\", \"could\", \"could\", \"counseling\", \"counseling\", \"counseling\", \"counseling\", \"counseling\", \"counselor\", \"counselor\", \"counselor\", \"counselor\", \"counselor\", \"crawler\", \"crawler\", \"crawler\", \"crawler\", \"crawler\", \"crdito\", \"creamyin\", \"credit\", \"credit\", \"credit\", \"credit\", \"credit\", \"creevey\", \"creevey\", \"creevey\", \"creevey\", \"cve\", \"cve\", \"cve\", \"cve\", \"cven\", \"cven\", \"cyber\", \"cyber\", \"cyber\", \"cyber\", \"cyber\", \"cyberespionage\", \"cybersecurity\", \"cybersecurity\", \"cybersecurity\", \"cybersecurity\", \"cybersecurity\", \"dac\", \"daccessodsunorg\", \"daccessodsunorg\", \"daccessodsunorg\", \"daccessodsunorg\", \"daccessodsunorg\", \"data\", \"data\", \"data\", \"data\", \"data\", \"day\", \"day\", \"day\", \"day\", \"day\", \"debt\", \"debt\", \"debt\", \"debt\", \"debt\", \"debtdoes\", \"debtdoes\", \"debtdoes\", \"debtdoes\", \"debthttps\", \"debthttps\", \"debthttps\", \"debthttps\", \"deed\", \"deed\", \"deed\", \"deed\", \"deed\", \"delinquent\", \"delinquent\", \"delinquent\", \"delinquent\", \"deposit\", \"deposit\", \"deposit\", \"deposit\", \"deposit\", \"descriptive\", \"descriptive\", \"descriptive\", \"descriptive\", \"descriptive\", \"designvector\", \"designvector\", \"designvector\", \"detail\", \"detail\", \"detail\", \"detail\", \"detail\", \"detailled\", \"detailled\", \"differentiating\", \"differentiating\", \"differentiating\", \"differentiating\", \"differentiating\", \"digg\", \"digg\", \"digg\", \"digg\", \"dio\", \"dio\", \"dio\", \"dio\", \"disembarking\", \"disembarking\", \"disembarking\", \"disembarking\", \"disembarking\", \"dissonance\", \"dissonance\", \"dissonance\", \"dissonance\", \"dissonance\", \"div\", \"div\", \"div\", \"dkm\", \"domain\", \"domain\", \"domain\", \"domain\", \"domain\", \"dont\", \"dont\", \"dont\", \"dont\", \"dont\", \"dumbphone\", \"earn\", \"earn\", \"earn\", \"earn\", \"earn\", \"editor\", \"editor\", \"editor\", \"editor\", \"editor\", \"editsour\", \"editsour\", \"editsour\", \"egl\", \"egl\", \"enclosure\", \"enclosure\", \"enclosure\", \"enclosure\", \"enclosure\", \"endpoint\", \"endpoint\", \"endpoint\", \"endpoint\", \"endpoint\", \"engage\", \"engage\", \"engage\", \"engage\", \"engage\", \"english\", \"english\", \"english\", \"english\", \"english\", \"enjoy\", \"enjoy\", \"enjoy\", \"enjoy\", \"enjoy\", \"enwikipediaorg\", \"enwikipediaorg\", \"enwikipediaorg\", \"enwikipediaorg\", \"enwikipediaorg\", \"esp\", \"esp\", \"esp\", \"esp\", \"esp\", \"esptool\", \"esptool\", \"esptool\", \"esptool\", \"esptool\", \"esteban\", \"esteban\", \"even\", \"even\", \"even\", \"even\", \"even\", \"every\", \"every\", \"every\", \"every\", \"every\", \"eviction\", \"eviction\", \"eviction\", \"eviction\", \"eviction\", \"exactmatch\", \"exactmatch\", \"exactmatch\", \"farmington\", \"farmington\", \"farmington\", \"farmington\", \"father\", \"father\", \"father\", \"father\", \"father\", \"fdcpa\", \"fdcpa\", \"fdcpa\", \"fdcpa\", \"filesample\", \"filesfree\", \"filesmodular\", \"film\", \"film\", \"film\", \"film\", \"film\", \"financial\", \"financial\", \"financial\", \"financial\", \"financial\", \"find\", \"find\", \"find\", \"find\", \"find\", \"fireeye\", \"fireeye\", \"fireeye\", \"fireeye\", \"fireeye\", \"first\", \"first\", \"first\", \"first\", \"first\", \"fisher\", \"fisher\", \"fisher\", \"fisher\", \"fisher\", \"floki\", \"foraging\", \"foraging\", \"foraging\", \"foraging\", \"foraging\", \"foreclosure\", \"foreclosure\", \"foreclosure\", \"foreclosure\", \"foreclosure\", \"fortnite\", \"fortnite\", \"fortnite\", \"fortnite\", \"fortnite\", \"forwardlooking\", \"forwardlooking\", \"forwardlooking\", \"forwardlooking\", \"forwardlooking\", \"free\", \"free\", \"free\", \"free\", \"free\", \"gambler\", \"gambler\", \"gambler\", \"gambler\", \"gambler\", \"gambling\", \"gambling\", \"gambling\", \"gambling\", \"gambling\", \"game\", \"game\", \"game\", \"game\", \"game\", \"gamers\", \"gamers\", \"gamers\", \"gamers\", \"gamers\", \"gaming\", \"gaming\", \"gaming\", \"gaming\", \"gaming\", \"garnishment\", \"garnishment\", \"garnishment\", \"garnishment\", \"geospatial\", \"geospatial\", \"get\", \"get\", \"get\", \"get\", \"get\", \"getty\", \"getty\", \"getty\", \"getty\", \"getty\", \"gitfixes\", \"gitfixes\", \"global\", \"global\", \"global\", \"global\", \"global\", \"glx\", \"god\", \"god\", \"god\", \"god\", \"god\", \"government\", \"government\", \"government\", \"government\", \"government\", \"gpios\", \"gpios\", \"gpios\", \"gpios\", \"gpios\", \"grammatically\", \"grammatically\", \"grammatically\", \"grammatically\", \"growth\", \"growth\", \"growth\", \"growth\", \"growth\", \"hacker\", \"hacker\", \"hacker\", \"hacker\", \"hacker\", \"hardship\", \"hardship\", \"hardship\", \"hardship\", \"hardship\", \"heh\", \"heh\", \"hekate\", \"hekate\", \"hekate\", \"hekate\", \"hekate\", \"hekates\", \"hekates\", \"hekates\", \"hekates\", \"hekates\", \"help\", \"help\", \"help\", \"help\", \"help\", \"hereback\", \"hereback\", \"hereback\", \"hereback\", \"herehyperlinks\", \"herehyperlinks\", \"herehyperlinks\", \"herehyperlinks\", \"hereinbound\", \"hereinbound\", \"hereinbound\", \"hereinside\", \"hereis\", \"hereis\", \"hereis\", \"hereis\", \"hereis\", \"herenot\", \"herenot\", \"herenot\", \"herenot\", \"herenot\", \"holy\", \"holy\", \"holy\", \"holy\", \"holy\", \"hpe\", \"hpe\", \"hpe\", \"hrefhttp\", \"hrefhttp\", \"http\", \"http\", \"http\", \"http\", \"http\", \"hyperlink\", \"hyperlink\", \"hyperlink\", \"hyperlink\", \"hyperlink\", \"hyperlinksin\", \"icd\", \"icd\", \"icd\", \"idiomatic\", \"idiomatic\", \"idiomatic\", \"idiomatic\", \"ieee\", \"inbound\", \"inbound\", \"inbound\", \"inbound\", \"inbound\", \"india\", \"india\", \"india\", \"india\", \"india\", \"individual\", \"individual\", \"individual\", \"individual\", \"individual\", \"info\", \"info\", \"info\", \"info\", \"info\", \"information\", \"information\", \"information\", \"information\", \"information\", \"infosys\", \"infosys\", \"infosys\", \"infosys\", \"infosys\", \"ingolf\", \"intel\", \"intel\", \"intel\", \"intel\", \"intel\", \"investment\", \"investment\", \"investment\", \"investment\", \"investment\", \"investor\", \"investor\", \"investor\", \"investor\", \"investor\", \"irs\", \"irs\", \"irs\", \"irs\", \"irs\", \"jackpot\", \"jackpot\", \"jackpot\", \"jackpot\", \"jackpot\", \"january\", \"january\", \"january\", \"january\", \"january\", \"jesus\", \"jesus\", \"jesus\", \"jesus\", \"jesus\", \"kazuar\", \"kazuar\", \"know\", \"know\", \"know\", \"know\", \"know\", \"libraryamd\", \"life\", \"life\", \"life\", \"life\", \"life\", \"ligature\", \"ligature\", \"like\", \"like\", \"like\", \"like\", \"like\", \"linguee\", \"linguee\", \"linguee\", \"linguee\", \"linguee\", \"linguistics\", \"linguistics\", \"linguistics\", \"link\", \"link\", \"link\", \"link\", \"link\", \"llchowever\", \"llchowever\", \"llchowever\", \"llvm\", \"llvm\", \"loadersnonfree\", \"loan\", \"loan\", \"loan\", \"loan\", \"loan\", \"logfile\", \"logfile\", \"logo\", \"logo\", \"logo\", \"logo\", \"logo\", \"lord\", \"lord\", \"lord\", \"lord\", \"lord\", \"lot\", \"lot\", \"lot\", \"lot\", \"lot\", \"love\", \"love\", \"love\", \"love\", \"love\", \"loyalty\", \"loyalty\", \"loyalty\", \"loyalty\", \"loyalty\", \"luke\", \"luke\", \"luke\", \"luke\", \"luke\", \"macaque\", \"macaque\", \"macaque\", \"macaque\", \"macaque\", \"make\", \"make\", \"make\", \"make\", \"make\", \"man\", \"man\", \"man\", \"man\", \"man\", \"management\", \"management\", \"management\", \"management\", \"management\", \"manga\", \"manga\", \"manga\", \"manitoba\", \"manitoba\", \"manitoba\", \"many\", \"many\", \"many\", \"many\", \"many\", \"marceline\", \"marceline\", \"marceline\", \"market\", \"market\", \"market\", \"market\", \"market\", \"materialsif\", \"materialsif\", \"materialsif\", \"maxwidth\", \"maxwidth\", \"may\", \"may\", \"may\", \"may\", \"may\", \"mcleod\", \"mcleod\", \"mcleod\", \"mcleod\", \"mcleod\", \"medical\", \"medical\", \"medical\", \"medical\", \"medical\", \"messagethank\", \"microgaming\", \"microgaming\", \"microgaming\", \"microgaming\", \"microgaming\", \"microsoft\", \"microsoft\", \"microsoft\", \"microsoft\", \"microsoft\", \"might\", \"might\", \"might\", \"might\", \"might\", \"mimecast\", \"mimecast\", \"mimecast\", \"mimecast\", \"mimecast\", \"money\", \"money\", \"money\", \"money\", \"money\", \"moodle\", \"mortgage\", \"mortgage\", \"mortgage\", \"mortgage\", \"mortgage\", \"movie\", \"movie\", \"movie\", \"movie\", \"movie\", \"name\", \"name\", \"name\", \"name\", \"name\", \"namea\", \"namea\", \"namea\", \"namea\", \"namealmost\", \"namealmost\", \"namealmost\", \"namelogo\", \"namelogo\", \"namelogo\", \"naturalnewscom\", \"naturalnewscom\", \"naturalnewscom\", \"naturalnewscom\", \"naturalnewscom\", \"need\", \"need\", \"need\", \"need\", \"need\", \"netflix\", \"netflix\", \"netflix\", \"netflix\", \"netflix\", \"new\", \"new\", \"new\", \"new\", \"new\", \"newjersey\", \"newvalue\", \"newvalue\", \"newvalue\", \"newvalue\", \"ngram\", \"ngram\", \"ngram\", \"ngram\", \"nihil\", \"nihil\", \"nihil\", \"nihil\", \"nihil\", \"noir\", \"noir\", \"noir\", \"noir\", \"noir\", \"nonaggression\", \"nonaggression\", \"nongaap\", \"noun\", \"noun\", \"noun\", \"noun\", \"noun\", \"nunavut\", \"nuvia\", \"nuvia\", \"nuvia\", \"nuvias\", \"offer\", \"offer\", \"offer\", \"offer\", \"offer\", \"ollivander\", \"ollivander\", \"ollivander\", \"ollivander\", \"ollivander\", \"one\", \"one\", \"one\", \"one\", \"one\", \"oneway\", \"oneway\", \"oneway\", \"oneway\", \"oneway\", \"online\", \"online\", \"online\", \"online\", \"online\", \"opencl\", \"opencl\", \"opencl\", \"opengl\", \"opengl\", \"opengl\", \"opengl\", \"openldap\", \"openldap\", \"orion\", \"orion\", \"orion\", \"orion\", \"orion\", \"owed\", \"owed\", \"owed\", \"owed\", \"owed\", \"page\", \"page\", \"page\", \"page\", \"page\", \"pander\", \"papel\", \"papel\", \"papel\", \"papel\", \"participant\", \"participant\", \"participant\", \"participant\", \"participant\", \"participate\", \"participate\", \"participate\", \"participate\", \"participate\", \"pastdue\", \"pastdue\", \"pastdue\", \"pastdue\", \"people\", \"people\", \"people\", \"people\", \"people\", \"person\", \"person\", \"person\", \"person\", \"person\", \"phishing\", \"phishing\", \"phishing\", \"phishing\", \"phishing\", \"phrase\", \"phrase\", \"phrase\", \"phrase\", \"phrase\", \"pinephone\", \"plan\", \"plan\", \"plan\", \"plan\", \"plan\", \"player\", \"player\", \"player\", \"player\", \"player\", \"playground\", \"playground\", \"playground\", \"playground\", \"playground\", \"playing\", \"playing\", \"playing\", \"playing\", \"playing\", \"poker\", \"poker\", \"poker\", \"poker\", \"poker\", \"practice\", \"practice\", \"practice\", \"practice\", \"practice\", \"prefiling\", \"prefiling\", \"prefiling\", \"prefiling\", \"prefiling\", \"proencs\", \"program\", \"program\", \"program\", \"program\", \"program\", \"proofreader\", \"proofreader\", \"proofreader\", \"proofreader\", \"proofreader\", \"purchase\", \"purchase\", \"purchase\", \"purchase\", \"purchase\", \"qualcomm\", \"qualcomm\", \"qualcomm\", \"qualcomm\", \"qualcomm\", \"qualify\", \"qualify\", \"qualify\", \"qualify\", \"qualify\", \"quebec\", \"quebec\", \"quebec\", \"quebec\", \"rbapgand\", \"really\", \"really\", \"really\", \"really\", \"really\", \"recommended\", \"recommended\", \"recommended\", \"recommended\", \"recommended\", \"recourse\", \"recourse\", \"recourse\", \"recourse\", \"recourse\", \"refundsif\", \"refundsif\", \"refundsif\", \"registrar\", \"registrar\", \"registrar\", \"registrar\", \"report\", \"report\", \"report\", \"report\", \"report\", \"repossession\", \"repossession\", \"repossession\", \"repossession\", \"repossession\", \"reward\", \"reward\", \"reward\", \"reward\", \"reward\", \"rimini\", \"rimini\", \"ringcentral\", \"roulette\", \"roulette\", \"roulette\", \"roulette\", \"roulette\", \"rtg\", \"rtg\", \"rtg\", \"rtg\", \"rtg\", \"runtimefree\", \"runtimefree\", \"runtimefree\", \"russia\", \"russia\", \"russia\", \"russia\", \"russia\", \"said\", \"said\", \"said\", \"said\", \"said\", \"sampson\", \"sampson\", \"sampson\", \"sampson\", \"sampson\", \"sampsons\", \"sampsons\", \"sampsons\", \"sampsons\", \"say\", \"say\", \"say\", \"say\", \"say\", \"scra\", \"scra\", \"scra\", \"scra\", \"seamensways\", \"seamensways\", \"seamensways\", \"seamensways\", \"season\", \"season\", \"season\", \"season\", \"season\", \"security\", \"security\", \"security\", \"security\", \"security\", \"see\", \"see\", \"see\", \"see\", \"see\", \"sentence\", \"sentence\", \"sentence\", \"sentence\", \"sentence\", \"septimus\", \"septimus\", \"septimus\", \"septimus\", \"septimus\", \"septimuss\", \"septimuss\", \"septimuss\", \"septimuss\", \"septimuss\", \"series\", \"series\", \"series\", \"series\", \"series\", \"service\", \"service\", \"service\", \"service\", \"service\", \"servicemembers\", \"servicemembers\", \"servicemembers\", \"servicemembers\", \"sherpa\", \"sherpa\", \"sherpa\", \"sherpa\", \"sherpa\", \"simile\", \"simile\", \"simile\", \"simile\", \"simile\", \"singapore\", \"singapore\", \"singapore\", \"singapore\", \"singapore\", \"sinner\", \"site\", \"site\", \"site\", \"site\", \"site\", \"sizerandomthumb\", \"sizerandomthumb\", \"slide\", \"slide\", \"slide\", \"slide\", \"slide\", \"slot\", \"slot\", \"slot\", \"slot\", \"slot\", \"smiled\", \"smiled\", \"smiled\", \"smiled\", \"software\", \"software\", \"software\", \"software\", \"software\", \"solarwinds\", \"solarwinds\", \"solarwinds\", \"solarwinds\", \"solarwinds\", \"something\", \"something\", \"something\", \"something\", \"something\", \"son\", \"son\", \"son\", \"son\", \"son\", \"song\", \"song\", \"song\", \"song\", \"song\", \"spin\", \"spin\", \"spin\", \"spin\", \"spin\", \"sport\", \"sport\", \"sport\", \"sport\", \"sport\", \"srchttp\", \"srchttp\", \"srcsethttp\", \"srcsethttp\", \"state\", \"state\", \"state\", \"state\", \"state\", \"stock\", \"stock\", \"stock\", \"stock\", \"stock\", \"story\", \"story\", \"story\", \"story\", \"story\", \"sunburst\", \"sunburst\", \"sunburst\", \"sunspot\", \"svr\", \"svr\", \"svr\", \"svr\", \"system\", \"system\", \"system\", \"system\", \"system\", \"tag\", \"tag\", \"tag\", \"tag\", \"tag\", \"take\", \"take\", \"take\", \"take\", \"take\", \"talented\", \"talented\", \"talented\", \"talented\", \"talented\", \"technology\", \"technology\", \"technology\", \"technology\", \"technology\", \"text\", \"text\", \"text\", \"text\", \"text\", \"textranch\", \"textranch\", \"textranch\", \"textranch\", \"textranch\", \"textual\", \"textual\", \"textual\", \"textual\", \"textual\", \"time\", \"time\", \"time\", \"time\", \"time\", \"title\", \"title\", \"title\", \"title\", \"title\", \"tld\", \"tld\", \"tld\", \"toolchain\", \"toolchain\", \"toolchain\", \"trademarkedno\", \"trademarkedno\", \"trademarkedno\", \"trading\", \"trading\", \"trading\", \"trading\", \"trading\", \"trophy\", \"trophy\", \"trophy\", \"trophy\", \"trophy\", \"trump\", \"trump\", \"trump\", \"trump\", \"trump\", \"truthtellers\", \"truthtellers\", \"ttl\", \"ttl\", \"ttl\", \"tv\", \"tv\", \"tv\", \"tv\", \"tv\", \"two\", \"two\", \"two\", \"two\", \"two\", \"ubbe\", \"ul\", \"ul\", \"ul\", \"ul\", \"uninformative\", \"uninformative\", \"uninformative\", \"uninformative\", \"uninformative\", \"uniqueall\", \"uniqueall\", \"uniqueall\", \"url\", \"url\", \"url\", \"url\", \"url\", \"user\", \"user\", \"user\", \"user\", \"user\", \"utc\", \"utc\", \"utc\", \"utc\", \"utc\", \"valuebn\", \"valuebn\", \"valuebn\", \"verb\", \"verb\", \"verb\", \"verb\", \"verb\", \"video\", \"video\", \"video\", \"video\", \"video\", \"vulnerability\", \"vulnerability\", \"vulnerability\", \"vulnerability\", \"vulnerability\", \"vyrn\", \"vyrn\", \"vyrn\", \"wager\", \"wager\", \"wager\", \"wager\", \"wager\", \"wagering\", \"wagering\", \"wagering\", \"wagering\", \"wagering\", \"wand\", \"wand\", \"wand\", \"wand\", \"wand\", \"way\", \"way\", \"way\", \"way\", \"way\", \"wayfair\", \"wayfair\", \"web\", \"web\", \"web\", \"web\", \"web\", \"website\", \"website\", \"website\", \"website\", \"website\", \"well\", \"well\", \"well\", \"well\", \"well\", \"wikihow\", \"wikihow\", \"wikihow\", \"wikihow\", \"wikihow\", \"withdrawal\", \"withdrawal\", \"withdrawal\", \"withdrawal\", \"withdrawal\", \"wo\", \"wordlist\", \"wordlist\", \"wordlist\", \"wordlist\", \"world\", \"world\", \"world\", \"world\", \"world\", \"would\", \"would\", \"would\", \"would\", \"would\", \"wpcontent\", \"wpcontent\", \"wppostimage\", \"wppostimage\", \"writeable\", \"writerif\", \"wwayourepeatcom\", \"wwayourepeatcom\", \"wwayourepeatcom\", \"wwwudemycom\", \"wwwyoutubecom\", \"wwwyoutubecom\", \"wwwyoutubecom\", \"wwwyoutubecom\", \"wwwyoutubecom\", \"xfa\", \"xfa\", \"xfa\", \"year\", \"year\", \"year\", \"year\", \"year\", \"youall\", \"youall\", \"youall\", \"youll\", \"youll\", \"youll\", \"youll\", \"youll\", \"zerodays\"]}, \"R\": 30, \"lambda.step\": 0.01, \"plot.opts\": {\"xlab\": \"PC1\", \"ylab\": \"PC2\"}, \"topic.order\": [1, 2, 3, 4, 5]};\n",
       "\n",
       "function LDAvis_load_lib(url, callback){\n",
       "  var s = document.createElement('script');\n",
       "  s.src = url;\n",
       "  s.async = true;\n",
       "  s.onreadystatechange = s.onload = callback;\n",
       "  s.onerror = function(){console.warn(\"failed to load library \" + url);};\n",
       "  document.getElementsByTagName(\"head\")[0].appendChild(s);\n",
       "}\n",
       "\n",
       "if(typeof(LDAvis) !== \"undefined\"){\n",
       "   // already loaded: just create the visualization\n",
       "   !function(LDAvis){\n",
       "       new LDAvis(\"#\" + \"ldavis_el74111404848779063527287729064\", ldavis_el74111404848779063527287729064_data);\n",
       "   }(LDAvis);\n",
       "}else if(typeof define === \"function\" && define.amd){\n",
       "   // require.js is available: use it to load d3/LDAvis\n",
       "   require.config({paths: {d3: \"https://d3js.org/d3.v5\"}});\n",
       "   require([\"d3\"], function(d3){\n",
       "      window.d3 = d3;\n",
       "      LDAvis_load_lib(\"https://cdn.jsdelivr.net/gh/bmabey/pyLDAvis@3.2.2/pyLDAvis/js/ldavis.v3.0.0.js\", function(){\n",
       "        new LDAvis(\"#\" + \"ldavis_el74111404848779063527287729064\", ldavis_el74111404848779063527287729064_data);\n",
       "      });\n",
       "    });\n",
       "}else{\n",
       "    // require.js not available: dynamically load d3 & LDAvis\n",
       "    LDAvis_load_lib(\"https://d3js.org/d3.v5.js\", function(){\n",
       "         LDAvis_load_lib(\"https://cdn.jsdelivr.net/gh/bmabey/pyLDAvis@3.2.2/pyLDAvis/js/ldavis.v3.0.0.js\", function(){\n",
       "                 new LDAvis(\"#\" + \"ldavis_el74111404848779063527287729064\", ldavis_el74111404848779063527287729064_data);\n",
       "            })\n",
       "         });\n",
       "}\n",
       "</script>"
      ],
      "text/plain": [
       "<IPython.core.display.HTML object>"
      ]
     },
     "execution_count": 18,
     "metadata": {},
     "output_type": "execute_result"
    }
   ],
   "source": [
    "lda_display = pyLDAvis.gensim.prepare(ldamodel, doc_term_matrix, dictionary, sort_topics=False, mds='mmds')\n",
    "pyLDAvis.display(lda_display)"
   ]
  },
  {
   "cell_type": "markdown",
   "metadata": {},
   "source": [
    "# Finding the dominant topic in each sentence"
   ]
  },
  {
   "cell_type": "code",
   "execution_count": 19,
   "metadata": {},
   "outputs": [
    {
     "data": {
      "text/html": [
       "<div>\n",
       "<style scoped>\n",
       "    .dataframe tbody tr th:only-of-type {\n",
       "        vertical-align: middle;\n",
       "    }\n",
       "\n",
       "    .dataframe tbody tr th {\n",
       "        vertical-align: top;\n",
       "    }\n",
       "\n",
       "    .dataframe thead th {\n",
       "        text-align: right;\n",
       "    }\n",
       "</style>\n",
       "<table border=\"1\" class=\"dataframe\">\n",
       "  <thead>\n",
       "    <tr style=\"text-align: right;\">\n",
       "      <th></th>\n",
       "      <th>Document_No</th>\n",
       "      <th>Dominant_Topic</th>\n",
       "      <th>Topic_Perc_Contrib</th>\n",
       "      <th>Keywords</th>\n",
       "      <th>Text</th>\n",
       "    </tr>\n",
       "  </thead>\n",
       "  <tbody>\n",
       "    <tr>\n",
       "      <th>0</th>\n",
       "      <td>0</td>\n",
       "      <td>0.0</td>\n",
       "      <td>0.3423</td>\n",
       "      <td>said, company, new, data, may, microsoft, year...</td>\n",
       "      <td>[mac, dont, bring, profit, iphone, market, sha...</td>\n",
       "    </tr>\n",
       "    <tr>\n",
       "      <th>1</th>\n",
       "      <td>1</td>\n",
       "      <td>0.0</td>\n",
       "      <td>0.6704</td>\n",
       "      <td>said, company, new, data, may, microsoft, year...</td>\n",
       "      <td>[california, report, coronavirus, death, new, ...</td>\n",
       "    </tr>\n",
       "    <tr>\n",
       "      <th>2</th>\n",
       "      <td>2</td>\n",
       "      <td>1.0</td>\n",
       "      <td>0.5023</td>\n",
       "      <td>casino, online, game, site, one, time, also, g...</td>\n",
       "      <td>[home, reset, iphone, reset, passcode, iphone,...</td>\n",
       "    </tr>\n",
       "    <tr>\n",
       "      <th>3</th>\n",
       "      <td>3</td>\n",
       "      <td>0.0</td>\n",
       "      <td>0.6785</td>\n",
       "      <td>said, company, new, data, may, microsoft, year...</td>\n",
       "      <td>[try, open, specific, folder, contains, word, ...</td>\n",
       "    </tr>\n",
       "    <tr>\n",
       "      <th>4</th>\n",
       "      <td>4</td>\n",
       "      <td>0.0</td>\n",
       "      <td>0.8140</td>\n",
       "      <td>said, company, new, data, may, microsoft, year...</td>\n",
       "      <td>[brian, molefe, take, aim, ramaphosa, eskoms, ...</td>\n",
       "    </tr>\n",
       "    <tr>\n",
       "      <th>5</th>\n",
       "      <td>5</td>\n",
       "      <td>0.0</td>\n",
       "      <td>0.8767</td>\n",
       "      <td>said, company, new, data, may, microsoft, year...</td>\n",
       "      <td>[american, dead, covid, death, toll, projected...</td>\n",
       "    </tr>\n",
       "    <tr>\n",
       "      <th>6</th>\n",
       "      <td>6</td>\n",
       "      <td>1.0</td>\n",
       "      <td>0.8170</td>\n",
       "      <td>casino, online, game, site, one, time, also, g...</td>\n",
       "      <td>[category, blog, considering, time, start, pla...</td>\n",
       "    </tr>\n",
       "    <tr>\n",
       "      <th>7</th>\n",
       "      <td>7</td>\n",
       "      <td>1.0</td>\n",
       "      <td>0.4407</td>\n",
       "      <td>casino, online, game, site, one, time, also, g...</td>\n",
       "      <td>[hyundai, sonata, find, magic, distinctive, lu...</td>\n",
       "    </tr>\n",
       "    <tr>\n",
       "      <th>8</th>\n",
       "      <td>8</td>\n",
       "      <td>2.0</td>\n",
       "      <td>0.8914</td>\n",
       "      <td>one, name, like, time, new, year, would, peopl...</td>\n",
       "      <td>[jake, wilson, january, palmer, minutesas, act...</td>\n",
       "    </tr>\n",
       "    <tr>\n",
       "      <th>9</th>\n",
       "      <td>9</td>\n",
       "      <td>1.0</td>\n",
       "      <td>0.6876</td>\n",
       "      <td>casino, online, game, site, one, time, also, g...</td>\n",
       "      <td>[january, leave, comment, home, fact, worker, ...</td>\n",
       "    </tr>\n",
       "  </tbody>\n",
       "</table>\n",
       "</div>"
      ],
      "text/plain": [
       "   Document_No  Dominant_Topic  Topic_Perc_Contrib  \\\n",
       "0            0             0.0              0.3423   \n",
       "1            1             0.0              0.6704   \n",
       "2            2             1.0              0.5023   \n",
       "3            3             0.0              0.6785   \n",
       "4            4             0.0              0.8140   \n",
       "5            5             0.0              0.8767   \n",
       "6            6             1.0              0.8170   \n",
       "7            7             1.0              0.4407   \n",
       "8            8             2.0              0.8914   \n",
       "9            9             1.0              0.6876   \n",
       "\n",
       "                                            Keywords  \\\n",
       "0  said, company, new, data, may, microsoft, year...   \n",
       "1  said, company, new, data, may, microsoft, year...   \n",
       "2  casino, online, game, site, one, time, also, g...   \n",
       "3  said, company, new, data, may, microsoft, year...   \n",
       "4  said, company, new, data, may, microsoft, year...   \n",
       "5  said, company, new, data, may, microsoft, year...   \n",
       "6  casino, online, game, site, one, time, also, g...   \n",
       "7  casino, online, game, site, one, time, also, g...   \n",
       "8  one, name, like, time, new, year, would, peopl...   \n",
       "9  casino, online, game, site, one, time, also, g...   \n",
       "\n",
       "                                                Text  \n",
       "0  [mac, dont, bring, profit, iphone, market, sha...  \n",
       "1  [california, report, coronavirus, death, new, ...  \n",
       "2  [home, reset, iphone, reset, passcode, iphone,...  \n",
       "3  [try, open, specific, folder, contains, word, ...  \n",
       "4  [brian, molefe, take, aim, ramaphosa, eskoms, ...  \n",
       "5  [american, dead, covid, death, toll, projected...  \n",
       "6  [category, blog, considering, time, start, pla...  \n",
       "7  [hyundai, sonata, find, magic, distinctive, lu...  \n",
       "8  [jake, wilson, january, palmer, minutesas, act...  \n",
       "9  [january, leave, comment, home, fact, worker, ...  "
      ]
     },
     "execution_count": 19,
     "metadata": {},
     "output_type": "execute_result"
    }
   ],
   "source": [
    "def format_topics_sentences(ldamodel=ldamodel, corpus=doc_term_matrix, texts=df['text_clean'].values):\n",
    "    # Init output\n",
    "    sent_topics_df = pd.DataFrame()\n",
    "\n",
    "    # Get main topic in each document\n",
    "    for i, row in enumerate(ldamodel[corpus]):\n",
    "        row = sorted(row, key=lambda x: (x[1]), reverse=True)\n",
    "        # Get the Dominant topic, Perc Contribution and Keywords for each document\n",
    "        for j, (topic_num, prop_topic) in enumerate(row):\n",
    "            if j == 0:  # => dominant topic\n",
    "                wp = ldamodel.show_topic(topic_num)\n",
    "                topic_keywords = \", \".join([word for word, prop in wp])\n",
    "                sent_topics_df = sent_topics_df.append(pd.Series([int(topic_num), round(prop_topic,4), topic_keywords]), ignore_index=True)\n",
    "            else:\n",
    "                break\n",
    "    sent_topics_df.columns = ['Dominant_Topic', 'Perc_Contribution', 'Topic_Keywords']\n",
    "\n",
    "    # Add original text to the end of the output\n",
    "    contents = pd.Series(texts)\n",
    "    sent_topics_df = pd.concat([sent_topics_df, contents], axis=1)\n",
    "    return(sent_topics_df)\n",
    "\n",
    "\n",
    "df_topic_sents_keywords = format_topics_sentences(ldamodel=ldamodel, corpus=doc_term_matrix, texts=df['text_clean'].values)\n",
    "\n",
    "# Format\n",
    "df_dominant_topic = df_topic_sents_keywords.reset_index()\n",
    "df_dominant_topic.columns = ['Document_No', 'Dominant_Topic', 'Topic_Perc_Contrib', 'Keywords', 'Text']\n",
    "\n",
    "# Show\n",
    "df_dominant_topic.head(10)"
   ]
  },
  {
   "cell_type": "code",
   "execution_count": 23,
   "metadata": {},
   "outputs": [
    {
     "data": {
      "text/plain": [
       "0.0    3842\n",
       "2.0    2418\n",
       "1.0    1499\n",
       "3.0    1174\n",
       "4.0    1067\n",
       "Name: Dominant_Topic, dtype: int64"
      ]
     },
     "execution_count": 23,
     "metadata": {},
     "output_type": "execute_result"
    }
   ],
   "source": [
    "df_dominant_topic[\"Dominant_Topic\"].value_counts()"
   ]
  },
  {
   "cell_type": "code",
   "execution_count": 27,
   "metadata": {},
   "outputs": [],
   "source": [
    "solution = pd.DataFrame()\n",
    "solution[\"id\"] = df[\"id\"]\n",
    "solution[\"topics\"] = df_dominant_topic[\"Dominant_Topic\"]"
   ]
  },
  {
   "cell_type": "code",
   "execution_count": 28,
   "metadata": {},
   "outputs": [
    {
     "data": {
      "text/html": [
       "<div>\n",
       "<style scoped>\n",
       "    .dataframe tbody tr th:only-of-type {\n",
       "        vertical-align: middle;\n",
       "    }\n",
       "\n",
       "    .dataframe tbody tr th {\n",
       "        vertical-align: top;\n",
       "    }\n",
       "\n",
       "    .dataframe thead th {\n",
       "        text-align: right;\n",
       "    }\n",
       "</style>\n",
       "<table border=\"1\" class=\"dataframe\">\n",
       "  <thead>\n",
       "    <tr style=\"text-align: right;\">\n",
       "      <th></th>\n",
       "      <th>id</th>\n",
       "      <th>topics</th>\n",
       "    </tr>\n",
       "  </thead>\n",
       "  <tbody>\n",
       "    <tr>\n",
       "      <th>0</th>\n",
       "      <td>76b0891843eb381c4c0e3e5974fd40f2</td>\n",
       "      <td>0.0</td>\n",
       "    </tr>\n",
       "    <tr>\n",
       "      <th>1</th>\n",
       "      <td>b205f71670059e39e436226fe728fbd6</td>\n",
       "      <td>0.0</td>\n",
       "    </tr>\n",
       "    <tr>\n",
       "      <th>2</th>\n",
       "      <td>15e2fa5f37ad8de40d13ec780cd2c9ce</td>\n",
       "      <td>1.0</td>\n",
       "    </tr>\n",
       "    <tr>\n",
       "      <th>3</th>\n",
       "      <td>2c9009e582b9fc8744ffcbdc2d329e58</td>\n",
       "      <td>0.0</td>\n",
       "    </tr>\n",
       "    <tr>\n",
       "      <th>4</th>\n",
       "      <td>f2e48d383b36b2eefa09e44ff9ea78e4</td>\n",
       "      <td>0.0</td>\n",
       "    </tr>\n",
       "    <tr>\n",
       "      <th>...</th>\n",
       "      <td>...</td>\n",
       "      <td>...</td>\n",
       "    </tr>\n",
       "    <tr>\n",
       "      <th>9995</th>\n",
       "      <td>ba0d3db39704bbd64793d987d41d302e</td>\n",
       "      <td>4.0</td>\n",
       "    </tr>\n",
       "    <tr>\n",
       "      <th>9996</th>\n",
       "      <td>ad208127b4296ac9fa0c75bb157aa112</td>\n",
       "      <td>1.0</td>\n",
       "    </tr>\n",
       "    <tr>\n",
       "      <th>9997</th>\n",
       "      <td>9f5e021626b945b3b30b4dd692867010</td>\n",
       "      <td>0.0</td>\n",
       "    </tr>\n",
       "    <tr>\n",
       "      <th>9998</th>\n",
       "      <td>5c7f2707e1d9ff87a73ba3c6aeda8cf2</td>\n",
       "      <td>3.0</td>\n",
       "    </tr>\n",
       "    <tr>\n",
       "      <th>9999</th>\n",
       "      <td>bab858ed86e68beee56dd489fd2ec26a</td>\n",
       "      <td>0.0</td>\n",
       "    </tr>\n",
       "  </tbody>\n",
       "</table>\n",
       "<p>10000 rows × 2 columns</p>\n",
       "</div>"
      ],
      "text/plain": [
       "                                    id  topics\n",
       "0     76b0891843eb381c4c0e3e5974fd40f2     0.0\n",
       "1     b205f71670059e39e436226fe728fbd6     0.0\n",
       "2     15e2fa5f37ad8de40d13ec780cd2c9ce     1.0\n",
       "3     2c9009e582b9fc8744ffcbdc2d329e58     0.0\n",
       "4     f2e48d383b36b2eefa09e44ff9ea78e4     0.0\n",
       "...                                ...     ...\n",
       "9995  ba0d3db39704bbd64793d987d41d302e     4.0\n",
       "9996  ad208127b4296ac9fa0c75bb157aa112     1.0\n",
       "9997  9f5e021626b945b3b30b4dd692867010     0.0\n",
       "9998  5c7f2707e1d9ff87a73ba3c6aeda8cf2     3.0\n",
       "9999  bab858ed86e68beee56dd489fd2ec26a     0.0\n",
       "\n",
       "[10000 rows x 2 columns]"
      ]
     },
     "execution_count": 28,
     "metadata": {},
     "output_type": "execute_result"
    }
   ],
   "source": [
    "solution"
   ]
  },
  {
   "cell_type": "code",
   "execution_count": 33,
   "metadata": {},
   "outputs": [],
   "source": [
    "solution.to_csv(\"./solutions.csv\", index=False)"
   ]
  }
 ],
 "metadata": {
  "kernelspec": {
   "display_name": "Python 3",
   "language": "python",
   "name": "python3"
  },
  "language_info": {
   "codemirror_mode": {
    "name": "ipython",
    "version": 3
   },
   "file_extension": ".py",
   "mimetype": "text/x-python",
   "name": "python",
   "nbconvert_exporter": "python",
   "pygments_lexer": "ipython3",
   "version": "3.6.9"
  }
 },
 "nbformat": 4,
 "nbformat_minor": 4
}
